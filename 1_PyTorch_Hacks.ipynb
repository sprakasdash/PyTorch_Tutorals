{
 "cells": [
  {
   "cell_type": "markdown",
   "metadata": {},
   "source": [
    "# Tutorial 1 : PyTorch for Deep Neural Networks\n",
    "\n",
    "## Follow instructions given in the [PyTorch](http://pytorch.org/) website"
   ]
  },
  {
   "cell_type": "markdown",
   "metadata": {},
   "source": [
    "### A subtle introduction to PyTorch and its power."
   ]
  },
  {
   "cell_type": "code",
   "execution_count": 1,
   "metadata": {},
   "outputs": [],
   "source": [
    "# Importing the library\n",
    "import torch"
   ]
  },
  {
   "cell_type": "code",
   "execution_count": 2,
   "metadata": {},
   "outputs": [
    {
     "name": "stdout",
     "output_type": "stream",
     "text": [
      "tensor([2, 2]) tensor([[0.6503, 0.4969],\n",
      "        [0.0933, 0.0521]])\n",
      "torch.Size([2, 2])\n"
     ]
    }
   ],
   "source": [
    "# Defining tensors\n",
    "x = torch.tensor((2,2)) # Initialized with specific values\n",
    "y = torch.rand(2,2) # Random initialization\n",
    "print(x,y)\n",
    "\n",
    "# Obtaining size of tensors\n",
    "print(y.size())"
   ]
  },
  {
   "cell_type": "code",
   "execution_count": 3,
   "metadata": {},
   "outputs": [
    {
     "name": "stdout",
     "output_type": "stream",
     "text": [
      "tensor([[0.6503, 0.4969],\n",
      "        [0.0933, 0.0521]]) tensor([[0.9030, 0.5753],\n",
      "        [0.6100, 0.4583]]) tensor([[1.5533, 1.0722],\n",
      "        [0.7033, 0.5103]])\n",
      "tensor([[0.9030, 0.5753],\n",
      "        [0.6100, 0.4583]]) tensor([[1.8059, 1.1507],\n",
      "        [1.2200, 0.9165]])\n"
     ]
    }
   ],
   "source": [
    "# Arithmetic operations\n",
    "z = torch.rand(2,2)\n",
    "print(y,z,y+z)\n",
    "print(z,2*z)"
   ]
  },
  {
   "cell_type": "code",
   "execution_count": 4,
   "metadata": {},
   "outputs": [
    {
     "name": "stdout",
     "output_type": "stream",
     "text": [
      "tensor([[0.6503, 0.4969],\n",
      "        [0.0933, 0.0521]])\n",
      "tensor(0.0521)\n",
      "tensor([0.6503, 0.0933])\n"
     ]
    }
   ],
   "source": [
    "# Indexing is similar to numpy indexing\n",
    "print(y)\n",
    "print(y[1,1])\n",
    "print(y[:,0])"
   ]
  },
  {
   "cell_type": "code",
   "execution_count": 5,
   "metadata": {},
   "outputs": [
    {
     "name": "stdout",
     "output_type": "stream",
     "text": [
      "<class 'torch.Tensor'>\n",
      "<class 'numpy.ndarray'>\n"
     ]
    }
   ],
   "source": [
    "# Converting to numpy\n",
    "y_np = y.numpy()\n",
    "print(type(y))\n",
    "print(type(y_np))"
   ]
  },
  {
   "cell_type": "code",
   "execution_count": 6,
   "metadata": {},
   "outputs": [
    {
     "name": "stdout",
     "output_type": "stream",
     "text": [
      "[[1. 1. 1.]\n",
      " [1. 1. 1.]\n",
      " [1. 1. 1.]] tensor([[1., 1., 1.],\n",
      "        [1., 1., 1.],\n",
      "        [1., 1., 1.]], dtype=torch.float64)\n"
     ]
    }
   ],
   "source": [
    "import numpy as np\n",
    "# Converting from numpy to tensor\n",
    "x_np = np.ones((3,3))\n",
    "x_py = torch.from_numpy(x_np)\n",
    "print(x_np,x_py)"
   ]
  },
  {
   "cell_type": "code",
   "execution_count": 7,
   "metadata": {},
   "outputs": [
    {
     "name": "stdout",
     "output_type": "stream",
     "text": [
      "CPU computation completed in 0.001812s, GPU computation completed in 0.000359s\n"
     ]
    }
   ],
   "source": [
    "# Improving computational time with GPU acceleration\n",
    "import time\n",
    "use_gpu = torch.cuda.is_available()\n",
    "x = torch.randn(1000,1000)\n",
    "if use_gpu:\n",
    "    cpuStart = time.time()\n",
    "    y = x*x\n",
    "    cpuEnd = time.time()-cpuStart\n",
    "    x = x.cuda()\n",
    "    gpuStart = time.time()\n",
    "    y = x*x\n",
    "    gpuEnd = time.time()-gpuStart\n",
    "    print('CPU computation completed in {:.6f}s, GPU computation completed in {:.6f}s'\\\n",
    "          .format(cpuEnd,gpuEnd))    \n",
    "    "
   ]
  },
  {
   "cell_type": "markdown",
   "metadata": {},
   "source": [
    "### Autograd\n",
    " This package provides automatic differentiation for all operations on Tensors"
   ]
  },
  {
   "cell_type": "code",
   "execution_count": 8,
   "metadata": {},
   "outputs": [
    {
     "name": "stdout",
     "output_type": "stream",
     "text": [
      "tensor([[1., 1.],\n",
      "        [1., 1.]])\n",
      "tensor([[1., 1.],\n",
      "        [1., 1.]], requires_grad=True)\n"
     ]
    }
   ],
   "source": [
    "from torch.autograd import Variable\n",
    "a = torch.ones(2,2)\n",
    "a_var = Variable(a,requires_grad=True)\n",
    "print(a)\n",
    "print(a_var)"
   ]
  },
  {
   "cell_type": "code",
   "execution_count": 9,
   "metadata": {},
   "outputs": [
    {
     "name": "stdout",
     "output_type": "stream",
     "text": [
      "tensor([[3., 3.],\n",
      "        [3., 3.]], grad_fn=<AddBackward0>)\n"
     ]
    }
   ],
   "source": [
    "b = a_var+2\n",
    "print(b)"
   ]
  },
  {
   "cell_type": "code",
   "execution_count": 10,
   "metadata": {},
   "outputs": [
    {
     "name": "stdout",
     "output_type": "stream",
     "text": [
      "<AddBackward0 object at 0x7f1eae65d198>\n"
     ]
    }
   ],
   "source": [
    "print(b.grad_fn)"
   ]
  },
  {
   "cell_type": "code",
   "execution_count": 11,
   "metadata": {},
   "outputs": [
    {
     "name": "stdout",
     "output_type": "stream",
     "text": [
      "tensor([[27., 27.],\n",
      "        [27., 27.]], grad_fn=<MulBackward0>)\n",
      "tensor(27., grad_fn=<MeanBackward0>)\n"
     ]
    }
   ],
   "source": [
    "c = b*b*3\n",
    "d = c.mean()\n",
    "print(c)\n",
    "print(d)"
   ]
  },
  {
   "cell_type": "code",
   "execution_count": 12,
   "metadata": {},
   "outputs": [],
   "source": [
    "d.backward()"
   ]
  },
  {
   "cell_type": "code",
   "execution_count": 13,
   "metadata": {},
   "outputs": [
    {
     "name": "stdout",
     "output_type": "stream",
     "text": [
      "tensor([[4.5000, 4.5000],\n",
      "        [4.5000, 4.5000]])\n"
     ]
    }
   ],
   "source": [
    "# Gradients\n",
    "print(a_var.grad)"
   ]
  },
  {
   "cell_type": "markdown",
   "metadata": {},
   "source": [
    "### Torchvision datasets"
   ]
  },
  {
   "cell_type": "code",
   "execution_count": 14,
   "metadata": {},
   "outputs": [],
   "source": [
    "%matplotlib inline\n",
    "import torch\n",
    "from torchvision import datasets,transforms\n",
    "import matplotlib.pyplot as plt"
   ]
  },
  {
   "cell_type": "code",
   "execution_count": 15,
   "metadata": {},
   "outputs": [
    {
     "name": "stderr",
     "output_type": "stream",
     "text": [
      "\r",
      "0it [00:00, ?it/s]"
     ]
    },
    {
     "name": "stdout",
     "output_type": "stream",
     "text": [
      "Downloading http://yann.lecun.com/exdb/mnist/train-images-idx3-ubyte.gz to ./MNIST/MNIST/raw/train-images-idx3-ubyte.gz\n"
     ]
    },
    {
     "name": "stderr",
     "output_type": "stream",
     "text": [
      " 92%|█████████▏| 9117696/9912422 [00:20<00:02, 301892.40it/s]"
     ]
    },
    {
     "name": "stdout",
     "output_type": "stream",
     "text": [
      "Extracting ./MNIST/MNIST/raw/train-images-idx3-ubyte.gz\n"
     ]
    },
    {
     "name": "stderr",
     "output_type": "stream",
     "text": [
      "\n",
      "0it [00:00, ?it/s]\u001b[A"
     ]
    },
    {
     "name": "stdout",
     "output_type": "stream",
     "text": [
      "Downloading http://yann.lecun.com/exdb/mnist/train-labels-idx1-ubyte.gz to ./MNIST/MNIST/raw/train-labels-idx1-ubyte.gz\n"
     ]
    },
    {
     "name": "stderr",
     "output_type": "stream",
     "text": [
      "\n",
      "  0%|          | 0/28881 [00:00<?, ?it/s]\u001b[A\n",
      "32768it [00:00, 43443.90it/s]            \u001b[A\n",
      "0it [00:00, ?it/s]\u001b[A"
     ]
    },
    {
     "name": "stdout",
     "output_type": "stream",
     "text": [
      "Extracting ./MNIST/MNIST/raw/train-labels-idx1-ubyte.gz\n",
      "Downloading http://yann.lecun.com/exdb/mnist/t10k-images-idx3-ubyte.gz to ./MNIST/MNIST/raw/t10k-images-idx3-ubyte.gz\n"
     ]
    },
    {
     "name": "stderr",
     "output_type": "stream",
     "text": [
      "\n",
      "  0%|          | 0/1648877 [00:01<?, ?it/s]\u001b[A\n",
      "  5%|▍         | 81920/1648877 [00:01<00:04, 340098.79it/s]\u001b[A\n",
      "  8%|▊         | 131072/1648877 [00:01<00:05, 283183.47it/s]\u001b[A\n",
      " 10%|█         | 172032/1648877 [00:01<00:06, 236199.62it/s]\u001b[A\n",
      " 13%|█▎        | 221184/1648877 [00:02<00:06, 215084.98it/s]\u001b[A\n",
      " 16%|█▋        | 270336/1648877 [00:02<00:06, 221935.08it/s]\u001b[A\n",
      " 19%|█▉        | 311296/1648877 [00:02<00:06, 203576.99it/s]\u001b[A\n",
      " 21%|██        | 344064/1648877 [00:02<00:07, 177733.62it/s]\u001b[A\n",
      " 23%|██▎       | 385024/1648877 [00:02<00:07, 175649.27it/s]\u001b[A\n",
      " 26%|██▌       | 425984/1648877 [00:03<00:07, 174354.87it/s]\u001b[A\n",
      " 29%|██▉       | 475136/1648877 [00:03<00:06, 182528.74it/s]\u001b[A\n",
      " 31%|███▏      | 516096/1648877 [00:03<00:05, 211772.51it/s]\u001b[A\n",
      " 33%|███▎      | 540672/1648877 [00:03<00:05, 208724.27it/s]\u001b[A\n",
      " 34%|███▍      | 565248/1648877 [00:03<00:05, 208537.10it/s]\u001b[A\n",
      " 36%|███▌      | 589824/1648877 [00:03<00:05, 206580.17it/s]\u001b[A\n",
      " 37%|███▋      | 614400/1648877 [00:04<00:04, 207392.18it/s]\u001b[A\n",
      " 39%|███▉      | 638976/1648877 [00:04<00:04, 205472.40it/s]\u001b[A\n",
      " 40%|████      | 663552/1648877 [00:04<00:04, 206715.54it/s]\u001b[A\n",
      " 42%|████▏     | 688128/1648877 [00:04<00:04, 205105.77it/s]\u001b[A\n",
      " 43%|████▎     | 712704/1648877 [00:04<00:04, 206354.35it/s]\u001b[A\n",
      " 45%|████▍     | 737280/1648877 [00:04<00:04, 204835.72it/s]\u001b[A\n",
      " 47%|████▋     | 770048/1648877 [00:04<00:03, 222544.11it/s]\u001b[A\n",
      " 48%|████▊     | 794624/1648877 [00:04<00:03, 215335.93it/s]\u001b[A\n",
      " 50%|████▉     | 819200/1648877 [00:04<00:03, 214002.83it/s]\u001b[A\n",
      " 51%|█████     | 843776/1648877 [00:05<00:03, 209334.48it/s]\u001b[A\n",
      " 53%|█████▎    | 868352/1648877 [00:05<00:03, 210061.00it/s]\u001b[A\n",
      " 54%|█████▍    | 892928/1648877 [00:05<00:03, 206605.52it/s]\u001b[A\n",
      " 56%|█████▌    | 925696/1648877 [00:05<00:03, 224642.24it/s]\u001b[A\n",
      " 58%|█████▊    | 950272/1648877 [00:05<00:03, 215755.40it/s]\u001b[A\n",
      " 59%|█████▉    | 974848/1648877 [00:05<00:03, 214979.27it/s]\u001b[A\n",
      " 61%|██████    | 999424/1648877 [00:05<00:03, 209369.02it/s]\u001b[A\n",
      " 63%|██████▎   | 1032192/1648877 [00:05<00:02, 227361.00it/s]\u001b[A\n",
      " 64%|██████▍   | 1056768/1648877 [00:06<00:02, 217283.78it/s]\u001b[A\n",
      " 66%|██████▌   | 1081344/1648877 [00:06<00:02, 215955.96it/s]\u001b[A\n",
      " 67%|██████▋   | 1105920/1648877 [00:06<00:02, 210313.49it/s]\u001b[A\n",
      " 69%|██████▊   | 1130496/1648877 [00:06<00:02, 211962.46it/s]\u001b[A\n",
      " 70%|███████   | 1155072/1648877 [00:06<00:02, 206047.42it/s]\u001b[A\n",
      " 72%|███████▏  | 1187840/1648877 [00:06<00:02, 225208.27it/s]\u001b[A\n",
      " 74%|███████▎  | 1212416/1648877 [00:06<00:02, 216276.22it/s]\u001b[A\n",
      " 75%|███████▌  | 1236992/1648877 [00:06<00:01, 216382.47it/s]\u001b[A\n",
      " 77%|███████▋  | 1261568/1648877 [00:07<00:01, 209412.42it/s]\u001b[A\n",
      " 78%|███████▊  | 1294336/1648877 [00:07<00:01, 227527.60it/s]\u001b[A\n",
      " 80%|███████▉  | 1318912/1648877 [00:07<00:01, 214350.82it/s]\u001b[A\n",
      "100%|█████████▉| 1646592/1648877 [00:08<00:00, 239380.50it/s]\u001b[A\n",
      "\n",
      "0it [00:00, ?it/s]\u001b[A\u001b[A"
     ]
    },
    {
     "name": "stdout",
     "output_type": "stream",
     "text": [
      "Extracting ./MNIST/MNIST/raw/t10k-images-idx3-ubyte.gz\n",
      "Downloading http://yann.lecun.com/exdb/mnist/t10k-labels-idx1-ubyte.gz to ./MNIST/MNIST/raw/t10k-labels-idx1-ubyte.gz\n"
     ]
    },
    {
     "name": "stderr",
     "output_type": "stream",
     "text": [
      "\n",
      "\n",
      "  0%|          | 0/4542 [00:00<?, ?it/s]\u001b[A\u001b[A\n",
      "\n",
      "8192it [00:00, 16183.60it/s]            \u001b[A\u001b[A"
     ]
    },
    {
     "name": "stdout",
     "output_type": "stream",
     "text": [
      "Extracting ./MNIST/MNIST/raw/t10k-labels-idx1-ubyte.gz\n",
      "Processing...\n",
      "Done!\n"
     ]
    },
    {
     "name": "stderr",
     "output_type": "stream",
     "text": [
      "9920512it [00:39, 301892.40it/s]                             \n",
      "1654784it [00:27, 239380.50it/s]                             \u001b[A"
     ]
    }
   ],
   "source": [
    "apply_transform = transforms.Compose([transforms.ToTensor()])\n",
    "trainDset = datasets.MNIST('./MNIST',train=True, download=True, transform= apply_transform)\n",
    "testDset = datasets.MNIST('./MNIST',train=False, download=True, transform= apply_transform)"
   ]
  },
  {
   "cell_type": "code",
   "execution_count": 16,
   "metadata": {},
   "outputs": [
    {
     "name": "stdout",
     "output_type": "stream",
     "text": [
      "60000 10000\n"
     ]
    }
   ],
   "source": [
    "# Number of samples\n",
    "print(len(trainDset),len(testDset))"
   ]
  },
  {
   "cell_type": "code",
   "execution_count": 17,
   "metadata": {},
   "outputs": [
    {
     "name": "stdout",
     "output_type": "stream",
     "text": [
      "Label: 5\n"
     ]
    },
    {
     "data": {
      "image/png": "[encoded data removed]",
      "text/plain": [
       "<Figure size 432x288 with 1 Axes>"
      ]
     },
     "metadata": {
      "needs_background": "light"
     },
     "output_type": "display_data"
    }
   ],
   "source": [
    "# Displaying sample image from the dataset\n",
    "img = trainDset[0][0].numpy().transpose(1,2,0).squeeze(2)\n",
    "plt.imshow(img,'gray')\n",
    "print('Label: '+str(trainDset[0][1]))"
   ]
  },
  {
   "cell_type": "code",
   "execution_count": 18,
   "metadata": {},
   "outputs": [],
   "source": [
    "# Creating dataloader for loading data in batches\n",
    "trainLoader = torch.utils.data.DataLoader(trainDset, batch_size=10, shuffle=True, num_workers=1, pin_memory=False)\n",
    "testLoader = torch.utils.data.DataLoader(testDset, batch_size=10, shuffle=True, num_workers=1, pin_memory=False)"
   ]
  },
  {
   "cell_type": "markdown",
   "metadata": {},
   "source": [
    "### Defining a multi-layer perceptron"
   ]
  },
  {
   "cell_type": "code",
   "execution_count": 19,
   "metadata": {},
   "outputs": [],
   "source": [
    "import torch.nn.functional as F\n",
    "import torch.nn as nn\n",
    "class MLP(nn.Module):\n",
    "    def __init__(self):\n",
    "        super(MLP, self).__init__()\n",
    "        self.fc1 = nn.Linear(28*28,100)\n",
    "        self.fc2 = nn.Linear(100,10)\n",
    "    def forward(self, x):\n",
    "        x = self.fc1(x)\n",
    "        x = torch.sigmoid(x)\n",
    "        x = self.fc2(x)\n",
    "        x = F.log_softmax(x,dim=1)\n",
    "        return x"
   ]
  },
  {
   "cell_type": "code",
   "execution_count": 20,
   "metadata": {},
   "outputs": [
    {
     "name": "stdout",
     "output_type": "stream",
     "text": [
      "MLP(\n",
      "  (fc1): Linear(in_features=784, out_features=100, bias=True)\n",
      "  (fc2): Linear(in_features=100, out_features=10, bias=True)\n",
      ")\n"
     ]
    }
   ],
   "source": [
    "net = MLP()\n",
    "print(net)"
   ]
  },
  {
   "cell_type": "code",
   "execution_count": 21,
   "metadata": {},
   "outputs": [
    {
     "name": "stdout",
     "output_type": "stream",
     "text": [
      "Dimensions of first layer weights: torch.Size([100, 784])\n",
      "Dimensions of first layer bias: torch.Size([100])\n",
      "torch.Size([100, 784])\n",
      "torch.Size([100])\n",
      "torch.Size([10, 100])\n",
      "torch.Size([10])\n",
      "Total number of parameters: 79510\n"
     ]
    }
   ],
   "source": [
    "params = list(net.parameters())\n",
    "# print('No. of parameters :'+str(len(params)))\n",
    "print('Dimensions of first layer weights: '+str(params[0].size())) # Weights of fc1\n",
    "print('Dimensions of first layer bias: '+str(params[1].size())) # Biases of fc1\n",
    "\n",
    "totalParams = 0\n",
    "for param in params:    \n",
    "    print(param.size())\n",
    "    totalParams += np.sum(np.prod(param.size()))\n",
    "print('Total number of parameters: '+str(totalParams))"
   ]
  },
  {
   "cell_type": "code",
   "execution_count": 22,
   "metadata": {},
   "outputs": [],
   "source": [
    "inp = trainLoader.dataset[0][0]\n",
    "label = trainLoader.dataset[0][1]"
   ]
  },
  {
   "cell_type": "code",
   "execution_count": 23,
   "metadata": {},
   "outputs": [
    {
     "name": "stdout",
     "output_type": "stream",
     "text": [
      "torch.Size([1, 28, 28])\n",
      "torch.Size([1, 10])\n"
     ]
    }
   ],
   "source": [
    "from torch.autograd import Variable\n",
    "# Feed-forward data through network\n",
    "out = net(Variable(inp.view(-1,28*28)))\n",
    "print(inp.size())\n",
    "print(out.size())"
   ]
  },
  {
   "cell_type": "code",
   "execution_count": 24,
   "metadata": {},
   "outputs": [],
   "source": [
    "# Backpropagating gradients\n",
    "net.zero_grad()\n",
    "out.backward(torch.randn(1, 10)) # Using random gradients"
   ]
  },
  {
   "cell_type": "code",
   "execution_count": 25,
   "metadata": {},
   "outputs": [
    {
     "name": "stdout",
     "output_type": "stream",
     "text": [
      "tensor(2.6201, grad_fn=<NllLossBackward>)\n"
     ]
    }
   ],
   "source": [
    "out = net(Variable(inp.view(-1,28*28)))\n",
    "# Defining loss function\n",
    "criterion = nn.NLLLoss() # Negative log-likelihood loss\n",
    "label = label*torch.ones(1).long() # Converting to tensor\n",
    "loss = criterion(out,Variable(label)) # NLLLoss() expects the labels to be of dtype 'long'\n",
    "print(loss)"
   ]
  },
  {
   "cell_type": "code",
   "execution_count": 26,
   "metadata": {},
   "outputs": [
    {
     "name": "stdout",
     "output_type": "stream",
     "text": [
      "Bias gradient of fc1 before backward\n",
      "tensor([0., 0., 0., 0., 0., 0., 0., 0., 0., 0.])\n",
      "Bias gradient of fc1 after backward\n",
      "tensor([ 0.0170,  0.0153, -0.0145,  0.0103, -0.0097, -0.0267,  0.0096,  0.0104,\n",
      "        -0.0178,  0.0031])\n"
     ]
    }
   ],
   "source": [
    "# Backprogation\n",
    "net.zero_grad()     # zeroes the gradient buffers of all parameters\n",
    "\n",
    "print('Bias gradient of fc1 before backward')\n",
    "print(net.fc1.bias.grad[:10])\n",
    "\n",
    "loss.backward()\n",
    "\n",
    "print('Bias gradient of fc1 after backward')\n",
    "print(net.fc1.bias.grad[:10])"
   ]
  },
  {
   "cell_type": "code",
   "execution_count": 27,
   "metadata": {},
   "outputs": [
    {
     "name": "stdout",
     "output_type": "stream",
     "text": [
      "tensor([-0.0594, -0.0594, -0.0978,  0.0709,  0.0500])\n",
      "tensor([-0.1086, -0.1132, -0.1464,  0.0245,  0.0035])\n"
     ]
    }
   ],
   "source": [
    "import copy\n",
    "# Updataing weights of the network\n",
    "learning_rate = 1\n",
    "init_params = copy.deepcopy(net.fc2.weight.data) # Copying initial parameters\n",
    "\n",
    "for f in net.parameters():    \n",
    "    f.data.sub_(f.grad.data * learning_rate)\n",
    "updated_params = net.fc2.weight.data\n",
    "print(init_params[0,:5])\n",
    "print(updated_params[0,:5])\n",
    "   "
   ]
  }
 ],
 "metadata": {
  "kernelspec": {
   "display_name": "Python 3",
   "language": "python",
   "name": "python3"
  },
  "language_info": {
   "codemirror_mode": {
    "name": "ipython",
    "version": 3
   },
   "file_extension": ".py",
   "mimetype": "text/x-python",
   "name": "python",
   "nbconvert_exporter": "python",
   "pygments_lexer": "ipython3",
   "version": "3.7.3"
  }
 },
 "nbformat": 4,
 "nbformat_minor": 2
}
