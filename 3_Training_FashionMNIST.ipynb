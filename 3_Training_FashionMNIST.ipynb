{
 "cells": [
  {
   "cell_type": "code",
   "execution_count": 6,
   "metadata": {
    "colab": {},
    "colab_type": "code",
    "id": "mI57AoYm0Qpl"
   },
   "outputs": [],
   "source": [
    "%matplotlib inline\n",
    "import torch\n",
    "import torchvision\n",
    "import torchvision.transforms as transforms\n",
    "import torch.nn as nn\n",
    "import torch.nn.functional as F\n",
    "import torch.optim as optim\n",
    "import numpy as np\n",
    "import matplotlib.pyplot as plt"
   ]
  },
  {
   "cell_type": "code",
   "execution_count": 7,
   "metadata": {},
   "outputs": [],
   "source": [
    "import sys\n",
    "sys.path.insert(0, '/home/sprakashdash/Documents/DLFA/')"
   ]
  },
  {
   "cell_type": "code",
   "execution_count": 8,
   "metadata": {
    "colab": {},
    "colab_type": "code",
    "id": "C_VM9tdh1mpn"
   },
   "outputs": [],
   "source": [
    "# Hyperparameters\n",
    "batch_size = 64\n",
    "input_size = 784\n",
    "hidden_size_1 = 512 # 4096\n",
    "hidden_size_2 = 256 # 2048\n",
    "hidden_size_3 = 128 # 1024\n",
    "num_classes = 10\n",
    "\n",
    "# Learning rate\n",
    "lr = 0.0001\n",
    "# Number of training epochs\n",
    "num_epochs = 20\n",
    "# Device configuration\n",
    "device = torch.device(\"cuda:0\" if torch.cuda.is_available() else \"cpu\")\n",
    "\n",
    "# Path to dataset\n",
    "dataset_root_path = '/home/sprakashdash/Documents/DLFA/'"
   ]
  },
  {
   "cell_type": "code",
   "execution_count": 11,
   "metadata": {
    "colab": {},
    "colab_type": "code",
    "id": "eheeSXs7yY_f",
    "scrolled": true
   },
   "outputs": [
    {
     "name": "stderr",
     "output_type": "stream",
     "text": [
      "\n",
      "0it [00:00, ?it/s]\u001b[A"
     ]
    },
    {
     "name": "stdout",
     "output_type": "stream",
     "text": [
      "Downloading http://fashion-mnist.s3-website.eu-central-1.amazonaws.com/train-images-idx3-ubyte.gz to /home/sprakashdash/Documents/DLFA/FashionMNIST/raw/train-images-idx3-ubyte.gz\n"
     ]
    },
    {
     "name": "stderr",
     "output_type": "stream",
     "text": [
      "\n",
      "  0%|          | 0/26421880 [00:01<?, ?it/s]\u001b[A\n",
      "  0%|          | 90112/26421880 [00:01<00:54, 485049.19it/s]\u001b[A\n",
      "  1%|          | 180224/26421880 [00:01<00:52, 498666.93it/s]\u001b[A\n",
      "  1%|▏         | 335872/26421880 [00:01<00:45, 569730.48it/s]\u001b[A\n",
      "  2%|▏         | 524288/26421880 [00:01<00:39, 659227.63it/s]\u001b[A\n",
      "  3%|▎         | 835584/26421880 [00:01<00:29, 859211.23it/s]\u001b[A\n",
      "  4%|▍         | 1138688/26421880 [00:01<00:23, 1089145.02it/s]\u001b[A\n",
      "  6%|▌         | 1540096/26421880 [00:02<00:18, 1365407.35it/s]\u001b[A\n",
      "  7%|▋         | 1769472/26421880 [00:02<00:16, 1533281.49it/s]\u001b[A\n",
      "  8%|▊         | 2097152/26421880 [00:02<00:13, 1820794.16it/s]\u001b[A\n",
      "  9%|▉         | 2506752/26421880 [00:02<00:11, 2161548.85it/s]\u001b[A\n",
      " 11%|█         | 2801664/26421880 [00:02<00:11, 2062351.92it/s]\u001b[A\n",
      " 12%|█▏        | 3088384/26421880 [00:02<00:10, 2200230.44it/s]\u001b[A\n",
      " 14%|█▍        | 3751936/26421880 [00:02<00:08, 2747861.71it/s]\u001b[A\n",
      " 17%|█▋        | 4382720/26421880 [00:02<00:06, 3306056.84it/s]\u001b[A\n",
      " 20%|█▉        | 5177344/26421880 [00:02<00:05, 4007502.18it/s]\u001b[A\n",
      " 23%|██▎       | 6029312/26421880 [00:03<00:04, 4342645.75it/s]\u001b[A\n",
      " 25%|██▌       | 6660096/26421880 [00:03<00:04, 4789918.25it/s]\u001b[A\n",
      " 27%|██▋       | 7241728/26421880 [00:03<00:03, 4887027.50it/s]\u001b[A\n",
      " 30%|██▉       | 7798784/26421880 [00:03<00:04, 4473344.99it/s]\u001b[A\n",
      " 32%|███▏      | 8527872/26421880 [00:03<00:03, 5058212.83it/s]\u001b[A\n",
      " 36%|███▌      | 9379840/26421880 [00:03<00:02, 5753365.10it/s]\u001b[A\n",
      " 39%|███▊      | 10207232/26421880 [00:03<00:02, 6330694.72it/s]\u001b[A\n",
      " 41%|████▏     | 10919936/26421880 [00:03<00:02, 6117897.55it/s]\u001b[A\n",
      " 45%|████▌     | 11935744/26421880 [00:04<00:02, 6941768.82it/s]\u001b[A\n",
      " 50%|████▉     | 13115392/26421880 [00:04<00:01, 7914937.36it/s]\u001b[A\n",
      " 53%|█████▎    | 14008320/26421880 [00:04<00:01, 6401017.27it/s]\u001b[A\n",
      " 57%|█████▋    | 15171584/26421880 [00:04<00:01, 7395902.83it/s]\u001b[A\n",
      " 61%|██████    | 16056320/26421880 [00:04<00:01, 6337750.67it/s]\u001b[A\n",
      " 64%|██████▎   | 16818176/26421880 [00:04<00:01, 5596761.36it/s]\u001b[A\n",
      " 66%|██████▌   | 17481728/26421880 [00:04<00:01, 4669492.57it/s]\u001b[A\n",
      " 68%|██████▊   | 18046976/26421880 [00:05<00:03, 2588993.10it/s]\u001b[A\n",
      " 72%|███████▏  | 19136512/26421880 [00:05<00:02, 3354986.86it/s]\u001b[A\n",
      " 76%|███████▋  | 20152320/26421880 [00:05<00:01, 4197848.89it/s]\u001b[A\n",
      " 80%|███████▉  | 21012480/26421880 [00:05<00:01, 4947121.30it/s]\u001b[A\n",
      " 82%|████████▏ | 21790720/26421880 [00:05<00:00, 5432106.37it/s]\u001b[A\n",
      " 85%|████████▌ | 22552576/26421880 [00:05<00:00, 5280718.78it/s]\u001b[A\n",
      " 88%|████████▊ | 23232512/26421880 [00:06<00:00, 5195569.04it/s]\u001b[A\n",
      " 90%|█████████ | 23904256/26421880 [00:06<00:00, 4989080.65it/s]\u001b[A\n",
      " 93%|█████████▎| 24510464/26421880 [00:06<00:00, 5261508.37it/s]\u001b[A\n",
      " 95%|█████████▍| 25100288/26421880 [00:06<00:00, 4124988.36it/s]\u001b[A\n",
      " 97%|█████████▋| 25591808/26421880 [00:06<00:00, 3634758.82it/s]\u001b[A\n",
      " 99%|█████████▊| 26025984/26421880 [00:06<00:00, 3486031.22it/s]\u001b[A\n",
      "26427392it [00:06, 3794659.76it/s]                              \u001b[A"
     ]
    },
    {
     "name": "stdout",
     "output_type": "stream",
     "text": [
      "Extracting /home/sprakashdash/Documents/DLFA/FashionMNIST/raw/train-images-idx3-ubyte.gz\n"
     ]
    },
    {
     "name": "stderr",
     "output_type": "stream",
     "text": [
      "\n",
      "0it [00:00, ?it/s]\u001b[A"
     ]
    },
    {
     "name": "stdout",
     "output_type": "stream",
     "text": [
      "Downloading http://fashion-mnist.s3-website.eu-central-1.amazonaws.com/train-labels-idx1-ubyte.gz to /home/sprakashdash/Documents/DLFA/FashionMNIST/raw/train-labels-idx1-ubyte.gz\n"
     ]
    },
    {
     "name": "stderr",
     "output_type": "stream",
     "text": [
      "\n",
      "  0%|          | 0/29515 [00:00<?, ?it/s]\u001b[A\n",
      "32768it [00:00, 48800.85it/s]            \u001b[A\n",
      "0it [00:00, ?it/s]\u001b[A"
     ]
    },
    {
     "name": "stdout",
     "output_type": "stream",
     "text": [
      "Extracting /home/sprakashdash/Documents/DLFA/FashionMNIST/raw/train-labels-idx1-ubyte.gz\n",
      "Downloading http://fashion-mnist.s3-website.eu-central-1.amazonaws.com/t10k-images-idx3-ubyte.gz to /home/sprakashdash/Documents/DLFA/FashionMNIST/raw/t10k-images-idx3-ubyte.gz\n"
     ]
    },
    {
     "name": "stderr",
     "output_type": "stream",
     "text": [
      "\n",
      "  0%|          | 0/4422102 [00:00<?, ?it/s]\u001b[A\n",
      "  2%|▏         | 81920/4422102 [00:00<00:08, 486823.20it/s]\u001b[A\n",
      "  4%|▍         | 172032/4422102 [00:01<00:08, 496268.63it/s]\u001b[A\n",
      "  8%|▊         | 360448/4422102 [00:01<00:06, 594329.85it/s]\u001b[A\n",
      " 14%|█▍        | 614400/4422102 [00:01<00:05, 722065.13it/s]\u001b[A\n",
      " 18%|█▊        | 786432/4422102 [00:01<00:04, 782048.22it/s]\u001b[A\n",
      " 26%|██▌       | 1146880/4422102 [00:01<00:03, 972307.74it/s]\u001b[A\n",
      " 30%|███       | 1335296/4422102 [00:01<00:03, 979765.27it/s]\u001b[A\n",
      " 38%|███▊      | 1679360/4422102 [00:02<00:02, 1161030.30it/s]\u001b[A\n",
      " 47%|████▋     | 2072576/4422102 [00:02<00:01, 1385228.94it/s]\u001b[A\n",
      " 53%|█████▎    | 2326528/4422102 [00:02<00:01, 1374804.21it/s]\u001b[A\n",
      " 60%|██████    | 2654208/4422102 [00:02<00:01, 1540737.81it/s]\u001b[A\n",
      " 66%|██████▌   | 2908160/4422102 [00:02<00:00, 1528186.19it/s]\u001b[A\n",
      " 72%|███████▏  | 3170304/4422102 [00:02<00:00, 1528195.11it/s]\u001b[A\n",
      " 78%|███████▊  | 3440640/4422102 [00:03<00:00, 1495643.30it/s]\u001b[A\n",
      " 82%|████████▏ | 3604480/4422102 [00:03<00:00, 1419983.97it/s]\u001b[A\n",
      "\n",
      "0it [00:00, ?it/s]\u001b[A\u001b[A"
     ]
    },
    {
     "name": "stdout",
     "output_type": "stream",
     "text": [
      "Extracting /home/sprakashdash/Documents/DLFA/FashionMNIST/raw/t10k-images-idx3-ubyte.gz\n",
      "Downloading http://fashion-mnist.s3-website.eu-central-1.amazonaws.com/t10k-labels-idx1-ubyte.gz to /home/sprakashdash/Documents/DLFA/FashionMNIST/raw/t10k-labels-idx1-ubyte.gz\n"
     ]
    },
    {
     "name": "stderr",
     "output_type": "stream",
     "text": [
      "\n",
      "\n",
      "  0%|          | 0/5148 [00:00<?, ?it/s]\u001b[A\u001b[A\n",
      "\n",
      "8192it [00:00, 15954.16it/s]            \u001b[A\u001b[A"
     ]
    },
    {
     "name": "stdout",
     "output_type": "stream",
     "text": [
      "Extracting /home/sprakashdash/Documents/DLFA/FashionMNIST/raw/t10k-labels-idx1-ubyte.gz\n",
      "Processing...\n",
      "Done!\n"
     ]
    }
   ],
   "source": [
    "trainset = torchvision.datasets.FashionMNIST(root=dataset_root_path, train=True,\\\n",
    "                                             download=True, transform=transforms.ToTensor())\n",
    "testset = torchvision.datasets.FashionMNIST(root=dataset_root_path, train=False,\\\n",
    "                                            download=True, transform=transforms.ToTensor())"
   ]
  },
  {
   "cell_type": "code",
   "execution_count": 12,
   "metadata": {
    "colab": {},
    "colab_type": "code",
    "id": "Rk5kD8PAzyvT"
   },
   "outputs": [],
   "source": [
    "trainloader = torch.utils.data.DataLoader(trainset, batch_size=batch_size, shuffle=True, num_workers=2)\n",
    "testloader = torch.utils.data.DataLoader(testset, batch_size=batch_size, shuffle=False, num_workers=2)"
   ]
  },
  {
   "cell_type": "code",
   "execution_count": 13,
   "metadata": {
    "colab": {
     "base_uri": "https://localhost:8080/",
     "height": 51
    },
    "colab_type": "code",
    "id": "SdmzLIj52tXh",
    "outputId": "ead885ff-e855-4748-a651-1eed110d371c"
   },
   "outputs": [
    {
     "name": "stdout",
     "output_type": "stream",
     "text": [
      "torch.Size([60000, 28, 28])\n",
      "torch.Size([60000])\n"
     ]
    },
    {
     "name": "stderr",
     "output_type": "stream",
     "text": [
      "/home/sprakashdash/anaconda3/lib/python3.7/site-packages/torchvision/datasets/mnist.py:53: UserWarning: train_data has been renamed data\n",
      "  warnings.warn(\"train_data has been renamed data\")\n",
      "/home/sprakashdash/anaconda3/lib/python3.7/site-packages/torchvision/datasets/mnist.py:43: UserWarning: train_labels has been renamed targets\n",
      "  warnings.warn(\"train_labels has been renamed targets\")\n",
      "\n",
      "4423680it [00:21, 1419983.97it/s]                             \u001b[A"
     ]
    }
   ],
   "source": [
    "print(trainloader.dataset.train_data.shape)\n",
    "print(trainloader.dataset.train_labels.shape)"
   ]
  },
  {
   "cell_type": "markdown",
   "metadata": {},
   "source": [
    "### The classes are defined in the main repo in [Github](https://github.com/zalandoresearch/fashion-mnist#Labels)"
   ]
  },
  {
   "cell_type": "code",
   "execution_count": 14,
   "metadata": {
    "colab": {},
    "colab_type": "code",
    "id": "aNy0D0Mx61Nd"
   },
   "outputs": [],
   "source": [
    "classes = ('T-shirt/top', 'Trouser', 'Pullover', 'Dress', 'Coat', 'Sandal', 'Shirt', 'Sneaker', 'Bag', 'Ankle-boot')"
   ]
  },
  {
   "cell_type": "markdown",
   "metadata": {
    "colab_type": "text",
    "id": "TRdIjxre2Gdw"
   },
   "source": [
    "#### Let us show some of the training images, for fun"
   ]
  },
  {
   "cell_type": "code",
   "execution_count": 15,
   "metadata": {
    "colab": {},
    "colab_type": "code",
    "id": "0wue3bFm2ESp"
   },
   "outputs": [
    {
     "name": "stdout",
     "output_type": "stream",
     "text": [
      "torch.Size([64, 1, 28, 28])\n",
      "torch.Size([64])\n"
     ]
    },
    {
     "data": {
      "image/png": "[encoded data removed]",
      "text/plain": [
       "<Figure size 432x288 with 1 Axes>"
      ]
     },
     "metadata": {
      "needs_background": "light"
     },
     "output_type": "display_data"
    },
    {
     "name": "stdout",
     "output_type": "stream",
     "text": [
      "Sneaker Shirt Shirt Dress Pullover\n"
     ]
    }
   ],
   "source": [
    "# Function to show an image\n",
    "def imshow(img):\n",
    "    npimg = img.numpy()\n",
    "    plt.imshow(np.transpose(npimg, (1,2,0)), interpolation='nearest')\n",
    "    plt.axis('off')\n",
    "    plt.show()\n",
    "    \n",
    "# Get some random training images\n",
    "dataiter = iter(trainloader)\n",
    "images, labels = dataiter.next()\n",
    "print(images.shape)\n",
    "print(labels.shape)\n",
    "\n",
    "# Show images\n",
    "imshow(torchvision.utils.make_grid(images[:5],nrow=5))\n",
    "# Print their labels\n",
    "print(' '.join('%5s' % classes[labels[j]] for j in range(5)))"
   ]
  },
  {
   "cell_type": "code",
   "execution_count": 16,
   "metadata": {
    "colab": {},
    "colab_type": "code",
    "id": "MeFkBraQ3b3T"
   },
   "outputs": [],
   "source": [
    "# Fully connected neural network with three hidden layer\n",
    "class NeuralNetThreeLayer(nn.Module):\n",
    "    def __init__(self, input_size, hidden_size_1, hidden_size_2, hidden_size_3, num_classes):\n",
    "        super(NeuralNetThreeLayer, self).__init__()\n",
    "        self.fc1 = nn.Linear(input_size, hidden_size_1)\n",
    "        self.fc2 = nn.Linear(hidden_size_1, hidden_size_2)\n",
    "        self.fc3 = nn.Linear(hidden_size_2, hidden_size_3)\n",
    "        self.fc4 = nn.Linear(hidden_size_3, num_classes)\n",
    "        \n",
    "        self.relu = nn.ReLU()\n",
    "        \n",
    "    \n",
    "    def forward(self, x):\n",
    "        x = self.fc1(x)\n",
    "        x = self.relu(x)\n",
    "        x = self.fc2(x)\n",
    "        x = self.relu(x)\n",
    "        x = self.fc3(x)\n",
    "        x = self.relu(x)\n",
    "        x = self.fc4(x)\n",
    "        return x\n",
    "\n",
    "net = NeuralNetThreeLayer(input_size, hidden_size_1, hidden_size_2, hidden_size_3, num_classes)\n",
    "net = net.to(device)"
   ]
  },
  {
   "cell_type": "markdown",
   "metadata": {
    "colab_type": "text",
    "id": "YhqWgSC--o1z"
   },
   "source": [
    "Define a Loss function and optimizer\n",
    "\n",
    "---\n",
    "\n"
   ]
  },
  {
   "cell_type": "code",
   "execution_count": 17,
   "metadata": {
    "colab": {},
    "colab_type": "code",
    "id": "vxgiHPSI-Sdy"
   },
   "outputs": [],
   "source": [
    "criterion = nn.CrossEntropyLoss()\n",
    "# optimizer = optim.SGD(net.parameters(), lr=lr, momentum=0.9)\n",
    "optimizer = optim.Adam(net.parameters(), lr=lr)"
   ]
  },
  {
   "cell_type": "code",
   "execution_count": 18,
   "metadata": {
    "colab": {},
    "colab_type": "code",
    "id": "Pmz-13VvG-Qg"
   },
   "outputs": [],
   "source": [
    "# Helper function to test the model\n",
    "# In test phase, we don't need to compute gradients (for memory efficiency)\n",
    "def eval(testloader, epoch):\n",
    "    # print('here')\n",
    "    with torch.no_grad():\n",
    "        running_loss_test = 0.0\n",
    "        test_correct = 0\n",
    "        test_total = 0\n",
    "        test_i = 0\n",
    "        for test_images, test_labels in testloader:\n",
    "            # get the inputs\n",
    "            test_images = test_images.reshape(-1, 28*28).to(device)\n",
    "            test_labels = test_labels.to(device)\n",
    "            test_outputs = net(test_images)\n",
    "            test_loss = criterion(test_outputs, test_labels)\n",
    "            _, test_predicted = torch.max(test_outputs.data, 1)\n",
    "            \n",
    "            running_loss_test += test_loss.item()\n",
    "            test_total += test_labels.size(0)\n",
    "            test_correct += (test_predicted == test_labels).sum().item()\n",
    "            test_i += 1\n",
    "\n",
    "            if test_total >= testloader.dataset.test_data.shape[0]-batch_size:\n",
    "                print('[{:d}], test accuracy: {:4.2f} %, test_loss {:.5f}'.format(epoch+1, \\\n",
    "                                                100*test_correct/test_total, running_loss_test/(test_i+1)))\n",
    "                break\n",
    "        return 100*test_correct/test_total, running_loss_test/(test_i+1)"
   ]
  },
  {
   "cell_type": "code",
   "execution_count": 19,
   "metadata": {
    "colab": {},
    "colab_type": "code",
    "id": "VEUnl-1gNnOU"
   },
   "outputs": [],
   "source": [
    "# Eval on training data. This is to be run with initial model only\n",
    "# In eval phase, we don't need to compute gradients (for memory efficiency)\n",
    "def eval_initial_model(trainloader):\n",
    "    with torch.no_grad():\n",
    "        running_loss_train = 0.0\n",
    "        train_correct = 0\n",
    "        train_total = 0\n",
    "        train_i = 0\n",
    "        for train_images, train_labels in trainloader:\n",
    "            # get the inputs\n",
    "            train_images = train_images.reshape(-1, 28*28).to(device)\n",
    "            train_labels = train_labels.to(device)\n",
    "            train_outputs = net(train_images)\n",
    "            train_loss = criterion(train_outputs, train_labels)\n",
    "            _, train_predicted = torch.max(train_outputs.data, 1)\n",
    "            \n",
    "            running_loss_train += train_loss.item()\n",
    "            train_total += train_labels.size(0)\n",
    "            train_correct += (train_predicted == train_labels).sum().item()\n",
    "            train_i += 1\n",
    "        \n",
    "        print('[0], train accuracy: {:4.2f} %, train_loss {:.5f}'.format(100*train_correct/train_total, \\\n",
    "                                                                        running_loss_train/(train_i+1)))\n",
    "        return 100*train_correct/train_total, running_loss_train/(train_i+1)"
   ]
  },
  {
   "cell_type": "code",
   "execution_count": 20,
   "metadata": {
    "colab": {
     "base_uri": "https://localhost:8080/",
     "height": 748
    },
    "colab_type": "code",
    "id": "7mB27O1Z-27r",
    "outputId": "2a2f38e7-5825-452d-85b5-b1373989b007"
   },
   "outputs": [
    {
     "name": "stdout",
     "output_type": "stream",
     "text": [
      "[0], train accuracy: 11.30 %, train_loss 2.30089\n"
     ]
    },
    {
     "name": "stderr",
     "output_type": "stream",
     "text": [
      "/home/sprakashdash/anaconda3/lib/python3.7/site-packages/torchvision/datasets/mnist.py:58: UserWarning: test_data has been renamed data\n",
      "  warnings.warn(\"test_data has been renamed data\")\n"
     ]
    },
    {
     "name": "stdout",
     "output_type": "stream",
     "text": [
      "[1], test accuracy: 11.26 %, test_loss 2.28860\n",
      "[1] train accuracy: 73.79 % train loss: 0.75173\n",
      "[1], test accuracy: 79.84 %, test_loss 0.55185\n",
      "[2] train accuracy: 83.71 % train loss: 0.46546\n",
      "[2], test accuracy: 83.66 %, test_loss 0.46679\n",
      "[3] train accuracy: 85.31 % train loss: 0.42034\n",
      "[3], test accuracy: 84.31 %, test_loss 0.43979\n",
      "[4] train accuracy: 86.20 % train loss: 0.39004\n",
      "[4], test accuracy: 85.40 %, test_loss 0.40890\n",
      "[5] train accuracy: 86.91 % train loss: 0.37047\n",
      "[5], test accuracy: 86.13 %, test_loss 0.38870\n",
      "[6] train accuracy: 87.41 % train loss: 0.35183\n",
      "[6], test accuracy: 86.35 %, test_loss 0.37662\n",
      "[7] train accuracy: 87.88 % train loss: 0.33632\n",
      "[7], test accuracy: 86.64 %, test_loss 0.36974\n",
      "[8] train accuracy: 88.43 % train loss: 0.32196\n",
      "[8], test accuracy: 86.66 %, test_loss 0.37621\n",
      "[9] train accuracy: 88.89 % train loss: 0.30853\n",
      "[9], test accuracy: 87.46 %, test_loss 0.34828\n",
      "[10] train accuracy: 89.14 % train loss: 0.29946\n",
      "[10], test accuracy: 87.76 %, test_loss 0.34300\n",
      "[11] train accuracy: 89.45 % train loss: 0.28744\n",
      "[11], test accuracy: 87.88 %, test_loss 0.33867\n",
      "[12] train accuracy: 89.78 % train loss: 0.27751\n",
      "[12], test accuracy: 87.66 %, test_loss 0.34239\n",
      "[13] train accuracy: 90.11 % train loss: 0.26880\n",
      "[13], test accuracy: 88.19 %, test_loss 0.33107\n",
      "[14] train accuracy: 90.34 % train loss: 0.26371\n",
      "[14], test accuracy: 88.35 %, test_loss 0.32251\n",
      "[15] train accuracy: 90.58 % train loss: 0.25345\n",
      "[15], test accuracy: 88.04 %, test_loss 0.33770\n",
      "[16] train accuracy: 90.83 % train loss: 0.24720\n",
      "[16], test accuracy: 88.57 %, test_loss 0.31914\n",
      "[17] train accuracy: 91.19 % train loss: 0.24117\n",
      "[17], test accuracy: 88.70 %, test_loss 0.31754\n",
      "[18] train accuracy: 91.34 % train loss: 0.23326\n",
      "[18], test accuracy: 88.34 %, test_loss 0.32696\n",
      "[19] train accuracy: 91.78 % train loss: 0.22607\n",
      "[19], test accuracy: 88.59 %, test_loss 0.32206\n",
      "[20] train accuracy: 91.83 % train loss: 0.22114\n",
      "[20], test accuracy: 89.02 %, test_loss 0.31865\n",
      "Finished Training\n"
     ]
    }
   ],
   "source": [
    "test_acc = [0.0]*(num_epochs+1)\n",
    "test_loss = [0.0]*(num_epochs+1)\n",
    "train_acc = [0.0]*(num_epochs+1)\n",
    "train_loss = [0.0]*(num_epochs+1)\n",
    "lst_counter = 0\n",
    "\n",
    "train_acc[lst_counter], train_loss[lst_counter] = eval_initial_model(trainloader)\n",
    "test_acc[lst_counter], test_loss[lst_counter] = eval(testloader, 0)\n",
    "lst_counter += 1\n",
    "\n",
    "for epoch in range(num_epochs):  # loop over the dataset multiple times\n",
    "\n",
    "    running_loss_training = 0.0\n",
    "    correct = 0\n",
    "    total = 0\n",
    "    i = 0\n",
    "    # for i, data in enumerate(trainloader, 0):\n",
    "    for inputs, labels in trainloader:\n",
    "        # get the inputs\n",
    "        # inputs, labels = data\n",
    "        inputs = inputs.reshape(-1, 28*28).to(device); labels = labels.to(device)\n",
    "\n",
    "        # zero the parameter gradients\n",
    "        optimizer.zero_grad()\n",
    "\n",
    "        # forward + backward + optimize\n",
    "        outputs = net(inputs)\n",
    "        training_loss = criterion(outputs, labels)\n",
    "        _, predicted = torch.max(outputs.data, 1)\n",
    "        \n",
    "        training_loss.backward()\n",
    "        optimizer.step()\n",
    "\n",
    "        # print statistics\n",
    "        running_loss_training += training_loss.item()\n",
    "        total += labels.size(0)\n",
    "        correct += (predicted == labels).sum().item()\n",
    "        i += 1\n",
    "        if total >= trainloader.dataset.train_data.shape[0]: # or (epoch == 0 and i == 0):\n",
    "            print('[{:d}] train accuracy: {:4.2f} % train loss: {:.5f}'.format(epoch+1, \\\n",
    "                                                            100*correct/total, running_loss_training/(i+1)))\n",
    "            train_acc[lst_counter] = 100*correct/total\n",
    "            train_loss[lst_counter] = running_loss_training/(i+1)\n",
    "            \n",
    "            running_loss_training = 0.0\n",
    "            \n",
    "            test_acc[lst_counter], test_loss[lst_counter] = eval(testloader, epoch)\n",
    "            lst_counter += 1\n",
    "\n",
    "print('Finished Training')"
   ]
  },
  {
   "cell_type": "code",
   "execution_count": 21,
   "metadata": {
    "colab": {},
    "colab_type": "code",
    "id": "D8q8LGTzDdkZ",
    "outputId": "756a0478-fa55-48c1-edd9-29caebb608aa"
   },
   "outputs": [
    {
     "data": {
      "image/png": "[encoded data removed]",
      "text/plain": [
       "<Figure size 432x288 with 1 Axes>"
      ]
     },
     "metadata": {
      "needs_background": "light"
     },
     "output_type": "display_data"
    }
   ],
   "source": [
    "# Plotting train and test loss vs Epochs\n",
    "fig1 = plt.figure(1)        \n",
    "plt.plot(range(num_epochs+1),train_loss,'r-',label='train_loss')        \n",
    "plt.plot(range(num_epochs+1),test_loss,'g-',label='test_loss')\n",
    "plt.legend(loc='upper right')\n",
    "plt.xlabel('Epochs')\n",
    "plt.ylabel('Losses')\n",
    "plt.show()"
   ]
  },
  {
   "cell_type": "code",
   "execution_count": 22,
   "metadata": {
    "colab": {},
    "colab_type": "code",
    "id": "2FpuPCg5BGBt",
    "outputId": "3b21fd9c-3326-4260-82a4-cdd27283656b"
   },
   "outputs": [
    {
     "data": {
      "image/png": "[encoded data removed]",
      "text/plain": [
       "<Figure size 432x288 with 1 Axes>"
      ]
     },
     "metadata": {
      "needs_background": "light"
     },
     "output_type": "display_data"
    }
   ],
   "source": [
    "fig2 = plt.figure(1)        \n",
    "plt.plot(range(1, num_epochs+1),train_loss[1:],'r-',label='train_loss')        \n",
    "plt.plot(range(1, num_epochs+1),test_loss[1:],'g-',label='test_loss')\n",
    "plt.legend(loc='upper right')\n",
    "plt.xlabel('Epochs')\n",
    "plt.ylabel('Losses')\n",
    "plt.show()"
   ]
  },
  {
   "cell_type": "code",
   "execution_count": 23,
   "metadata": {
    "colab": {},
    "colab_type": "code",
    "id": "lCXU3dpCNnOp",
    "outputId": "4c9c0094-0ab3-4732-ace5-abafc15e02d7"
   },
   "outputs": [
    {
     "data": {
      "image/png": "[encoded data removed]",
      "text/plain": [
       "<Figure size 432x288 with 1 Axes>"
      ]
     },
     "metadata": {
      "needs_background": "light"
     },
     "output_type": "display_data"
    }
   ],
   "source": [
    "# Plotting train and test accuracy vs Epochs\n",
    "fig3 = plt.figure(1)        \n",
    "plt.plot(range(num_epochs+1),train_acc,'r-',label='train_acc')        \n",
    "plt.plot(range(num_epochs+1),test_acc,'g-',label='test_acc')\n",
    "plt.legend(loc='lower right')\n",
    "plt.xlabel('Epochs')\n",
    "plt.ylabel('Accuracies')\n",
    "plt.show()"
   ]
  },
  {
   "cell_type": "code",
   "execution_count": 26,
   "metadata": {
    "colab": {},
    "colab_type": "code",
    "id": "eVqYKgsENnOt",
    "outputId": "a7661448-c4ee-40b2-b790-1c753845e5b2"
   },
   "outputs": [
    {
     "data": {
      "image/png": "[encoded data removed]",
      "text/plain": [
       "<Figure size 432x288 with 1 Axes>"
      ]
     },
     "metadata": {
      "needs_background": "light"
     },
     "output_type": "display_data"
    },
    {
     "name": "stdout",
     "output_type": "stream",
     "text": [
      "GroundTruth:  Ankle-boot Pullover Trouser Trouser Shirt\n",
      "Predicted:  Ankle-boot (0.98) Pullover (1.00) Trouser (1.00) Trouser (1.00) Shirt (0.76)\n"
     ]
    }
   ],
   "source": [
    "dataiter = iter(testloader)\n",
    "images, labels = dataiter.next()\n",
    "\n",
    "# print images\n",
    "imshow(torchvision.utils.make_grid(images[:5], nrow=5))\n",
    "print('GroundTruth: ', ' '.join('%5s' % classes[labels[j]] for j in range(5)))\n",
    "\n",
    "# Get the predicted outputs\n",
    "images = images.reshape(-1, 28*28).to(device)\n",
    "labels = labels.to(device)\n",
    "outputs = net(images)\n",
    "outputs_softmax = F.softmax(outputs, dim=1)\n",
    "probabilities, predicted = torch.max(outputs_softmax, 1)\n",
    "probabilities_np = probabilities.cpu().data.numpy()\n",
    "print('Predicted: ', ' '.join('%5s (%.2f)' % (classes[predicted[j]], probabilities[j]) for j in range(5)))"
   ]
  }
 ],
 "metadata": {
  "colab": {
   "collapsed_sections": [],
   "name": "3_FashionMNIST_FullyConnected.ipynb",
   "provenance": [],
   "version": "0.3.2"
  },
  "kernelspec": {
   "display_name": "Python 3",
   "language": "python",
   "name": "python3"
  },
  "language_info": {
   "codemirror_mode": {
    "name": "ipython",
    "version": 3
   },
   "file_extension": ".py",
   "mimetype": "text/x-python",
   "name": "python",
   "nbconvert_exporter": "python",
   "pygments_lexer": "ipython3",
   "version": "3.7.3"
  }
 },
 "nbformat": 4,
 "nbformat_minor": 2
}
