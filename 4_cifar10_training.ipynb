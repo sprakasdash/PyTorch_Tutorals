{
 "cells": [
  {
   "cell_type": "code",
   "execution_count": 1,
   "metadata": {
    "colab": {},
    "colab_type": "code",
    "id": "p6-jjb94ynVn"
   },
   "outputs": [],
   "source": [
    "%matplotlib inline\n",
    "import torch\n",
    "import torchvision\n",
    "import torchvision.transforms as transforms\n",
    "import torch.nn as nn\n",
    "import torch.nn.functional as F\n",
    "import torch.optim as optim\n",
    "import numpy as np\n",
    "import matplotlib.pyplot as plt"
   ]
  },
  {
   "cell_type": "code",
   "execution_count": 2,
   "metadata": {
    "colab": {},
    "colab_type": "code",
    "id": "PWq_Lnm7ynVu"
   },
   "outputs": [],
   "source": [
    "# Hyperparameters\n",
    "batch_size = 64\n",
    "# Learning rate\n",
    "lr = 0.001\n",
    "momentum = 0.9\n",
    "# Number of training epochs\n",
    "num_epochs = 20"
   ]
  },
  {
   "cell_type": "markdown",
   "metadata": {
    "colab_type": "text",
    "id": "k3IGFjb4ynV1"
   },
   "source": [
    "Training an image classifier\n",
    "----------------------------\n",
    "\n",
    "We will do the following steps in order:\n",
    "\n",
    "1. Load and normalizing the CIFAR10 training and test datasets using\n",
    "   ``torchvision``\n",
    "2. Define a Convolutional Neural Network\n",
    "3. Define a loss function\n",
    "4. Train the network on the training data\n",
    "5. Test the network on the test data\n",
    "\n",
    "1. Loading and normalizing CIFAR10\n",
    "\n",
    "Using ``torchvision``, it’s extremely easy to load CIFAR10."
   ]
  },
  {
   "cell_type": "code",
   "execution_count": 3,
   "metadata": {
    "colab": {},
    "colab_type": "code",
    "id": "gHcq5xZMynV3"
   },
   "outputs": [
    {
     "name": "stdout",
     "output_type": "stream",
     "text": [
      "cuda:0\n"
     ]
    }
   ],
   "source": [
    "# Device configuration\n",
    "device = torch.device(\"cuda:0\" if torch.cuda.is_available() else \"cpu\")\n",
    "print(device)\n",
    "# Path to dataset\n",
    "dataset_root_path = '/home/sprakashdash/Documents/DLFA/'"
   ]
  },
  {
   "cell_type": "markdown",
   "metadata": {
    "colab_type": "text",
    "id": "Zw2KgMPhynV7"
   },
   "source": [
    "The output of torchvision datasets are PILImage images of range [0, 1].\n",
    "We transform them to Tensors of normalized range [-1, 1].\n",
    "\n"
   ]
  },
  {
   "cell_type": "code",
   "execution_count": 4,
   "metadata": {
    "colab": {
     "base_uri": "https://localhost:8080/",
     "height": 52
    },
    "colab_type": "code",
    "id": "MxHt55XiynV9",
    "outputId": "cf8b8c47-25dc-4d76-de6e-17092f075a21",
    "scrolled": true
   },
   "outputs": [
    {
     "name": "stdout",
     "output_type": "stream",
     "text": [
      "Files already downloaded and verified\n",
      "Files already downloaded and verified\n"
     ]
    }
   ],
   "source": [
    "transform = transforms.Compose(\n",
    "    [transforms.ToTensor(),\n",
    "     transforms.Normalize((0.5, 0.5, 0.5), (0.5, 0.5, 0.5))])\n",
    "\n",
    "trainset = torchvision.datasets.CIFAR10(root=dataset_root_path, train=True, download=True, transform=transform)\n",
    "trainloader = torch.utils.data.DataLoader(trainset, batch_size=batch_size, shuffle=True, num_workers=2)\n",
    "\n",
    "testset = torchvision.datasets.CIFAR10(root=dataset_root_path, train=False, download=True, transform=transform)\n",
    "testloader = torch.utils.data.DataLoader(testset, batch_size=4, shuffle=False, num_workers=2)\n",
    "\n",
    "classes = ('plane', 'car', 'bird', 'cat', 'deer', 'dog', 'frog', 'horse', 'ship', 'truck')"
   ]
  },
  {
   "cell_type": "markdown",
   "metadata": {},
   "source": [
    "#### Let us show some of the training images "
   ]
  },
  {
   "cell_type": "code",
   "execution_count": 5,
   "metadata": {
    "colab": {
     "base_uri": "https://localhost:8080/",
     "height": 155
    },
    "colab_type": "code",
    "id": "lMrdfL4lynWG",
    "outputId": "495fff1b-8771-4d9b-b5eb-ac912a3e4699"
   },
   "outputs": [
    {
     "data": {
      "image/png": "[encoded data removed]",
      "text/plain": [
       "<Figure size 432x288 with 1 Axes>"
      ]
     },
     "metadata": {
      "needs_background": "light"
     },
     "output_type": "display_data"
    },
    {
     "name": "stdout",
     "output_type": "stream",
     "text": [
      " cat truck deer ship deer ship  dog  cat\n"
     ]
    }
   ],
   "source": [
    "# functions to show an image\n",
    "def imshow(img):\n",
    "    img = img / 2 + 0.5     # unnormalize\n",
    "    npimg = img.numpy()\n",
    "    plt.imshow(np.transpose(npimg, (1, 2, 0)))\n",
    "    plt.axis('off')\n",
    "    plt.show()\n",
    "\n",
    "# get some random training images\n",
    "dataiter = iter(trainloader)\n",
    "images, labels = dataiter.next()\n",
    "\n",
    "# show images\n",
    "imshow(torchvision.utils.make_grid(images[:8]))\n",
    "# print labels\n",
    "print(' '.join('%4s' % classes[labels[j]] for j in range(8)))"
   ]
  },
  {
   "cell_type": "markdown",
   "metadata": {
    "colab_type": "text",
    "id": "uT2kipKlynWP"
   },
   "source": [
    "#### Define a Convolutional Neural Network "
   ]
  },
  {
   "cell_type": "code",
   "execution_count": 6,
   "metadata": {
    "colab": {},
    "colab_type": "code",
    "id": "99nevj9dynWS"
   },
   "outputs": [],
   "source": [
    "class Net(nn.Module):\n",
    "    def __init__(self):\n",
    "        super(Net, self).__init__()\n",
    "        self.conv1 = nn.Conv2d(3, 6, 5)\n",
    "        self.pool = nn.MaxPool2d(2, 2)\n",
    "        self.conv2 = nn.Conv2d(6, 16, 5)\n",
    "        self.fc1 = nn.Linear(16 * 5 * 5, 120)\n",
    "        self.fc2 = nn.Linear(120, 84)\n",
    "        self.fc3 = nn.Linear(84, 10)\n",
    "\n",
    "    def forward(self, x):\n",
    "        x = self.pool(F.relu(self.conv1(x)))\n",
    "        x = self.pool(F.relu(self.conv2(x)))\n",
    "        x = x.view(-1, 16 * 5 * 5)\n",
    "        x = F.relu(self.fc1(x))\n",
    "        x = F.relu(self.fc2(x))\n",
    "        x = self.fc3(x)\n",
    "        return x\n",
    "\n",
    "net = Net()\n",
    "net = net.to(device)"
   ]
  },
  {
   "cell_type": "markdown",
   "metadata": {
    "colab_type": "text",
    "id": "yZVw_l2hynWb"
   },
   "source": [
    "#### Define a Loss function and optimizer"
   ]
  },
  {
   "cell_type": "code",
   "execution_count": 7,
   "metadata": {
    "colab": {},
    "colab_type": "code",
    "id": "zpjIa0LIynWh"
   },
   "outputs": [],
   "source": [
    "criterion = nn.CrossEntropyLoss()\n",
    "#optimizer = optim.SGD(net.parameters(), lr=lr, momentum=momentum)\n",
    "optimizer = optim.Adam(net.parameters(), lr=lr)"
   ]
  },
  {
   "cell_type": "markdown",
   "metadata": {
    "colab_type": "text",
    "id": "181Eu5XOynWl"
   },
   "source": [
    "#### Train the network"
   ]
  },
  {
   "cell_type": "code",
   "execution_count": 8,
   "metadata": {
    "colab": {},
    "colab_type": "code",
    "id": "8NyXek_GynWo"
   },
   "outputs": [],
   "source": [
    "# Helper function to test the model\n",
    "# In test phase, we don't need to compute gradients (for memory efficiency)\n",
    "def eval(testloader, epoch):\n",
    "    with torch.no_grad():\n",
    "        running_loss_test = 0.0\n",
    "        test_correct = 0\n",
    "        test_total = 0\n",
    "        test_i = 0\n",
    "        for test_images, test_labels in testloader:\n",
    "            # get the inputs\n",
    "            # test_images, test_labels = test_data\n",
    "            test_images = test_images.to(device)\n",
    "            test_labels = test_labels.to(device)\n",
    "            test_outputs = net(test_images)\n",
    "            test_loss = criterion(test_outputs, test_labels)\n",
    "            _, test_predicted = torch.max(test_outputs.data, 1)\n",
    "            \n",
    "            running_loss_test += test_loss.item()\n",
    "            test_total += test_labels.size(0)\n",
    "            test_correct += (test_predicted == test_labels).sum().item()\n",
    "            test_i += 1\n",
    "\n",
    "            if test_total >= testloader.dataset.__len__()-batch_size:\n",
    "                print('[{:d}], test accuracy: {:4.2f} %, test_loss {:.5f}'.format(epoch+1, \\\n",
    "                                                100*test_correct/test_total, running_loss_test/test_i))\n",
    "                break\n",
    "        return 100*test_correct/test_total, running_loss_test/test_i"
   ]
  },
  {
   "cell_type": "code",
   "execution_count": 9,
   "metadata": {
    "colab": {},
    "colab_type": "code",
    "id": "8paZ2VlKynWs"
   },
   "outputs": [],
   "source": [
    "# Helper function to compute (true) training loss\n",
    "# Eval on training data. This is to be run with initial model only\n",
    "# In eval phase, we don't need to compute gradients (for memory efficiency)\n",
    "def eval_initial_model(trainloader):\n",
    "    with torch.no_grad():\n",
    "        running_loss_train = 0.0\n",
    "        train_correct = 0\n",
    "        train_total = 0\n",
    "        train_i = 0\n",
    "        for train_images, train_labels in trainloader:\n",
    "            # get the inputs\n",
    "            # train_images, train_labels = train_data\n",
    "            train_images = train_images.to(device)\n",
    "            train_labels = train_labels.to(device)\n",
    "            train_outputs = net(train_images)\n",
    "            train_loss = criterion(train_outputs, train_labels)\n",
    "            _, train_predicted = torch.max(train_outputs.data, 1)\n",
    "            \n",
    "            running_loss_train += train_loss.item()\n",
    "            train_total += train_labels.size(0)\n",
    "            train_correct += (train_predicted == train_labels).sum().item()\n",
    "            train_i += 1\n",
    "\n",
    "        print('[0], train accuracy: {:4.2f} %, train_loss {:.5f}'.format(100*train_correct/train_total, \\\n",
    "                                                                        running_loss_train/train_i))\n",
    "        return 100*train_correct/train_total, running_loss_train/train_i"
   ]
  },
  {
   "cell_type": "code",
   "execution_count": 10,
   "metadata": {
    "colab": {
     "base_uri": "https://localhost:8080/",
     "height": 764
    },
    "colab_type": "code",
    "id": "MY7L8LMPynWx",
    "outputId": "b9b0c845-3095-4c72-bace-a3d0e09b103a",
    "scrolled": true
   },
   "outputs": [
    {
     "name": "stdout",
     "output_type": "stream",
     "text": [
      "[0], train accuracy: 9.52 %, train_loss 2.30413\n",
      "[1], test accuracy: 9.88 %, test_loss 2.30421\n",
      "[1] train accuracy: 39.22 % train loss: 1.65681\n",
      "[1], test accuracy: 47.86 %, test_loss 1.43773\n",
      "[2] train accuracy: 50.47 % train loss: 1.37743\n",
      "[2], test accuracy: 51.43 %, test_loss 1.33938\n",
      "[3] train accuracy: 54.95 % train loss: 1.25505\n",
      "[3], test accuracy: 55.82 %, test_loss 1.22836\n",
      "[4] train accuracy: 58.45 % train loss: 1.17595\n",
      "[4], test accuracy: 58.22 %, test_loss 1.16315\n",
      "[5] train accuracy: 60.85 % train loss: 1.10898\n",
      "[5], test accuracy: 59.01 %, test_loss 1.15285\n",
      "[6] train accuracy: 62.82 % train loss: 1.05582\n",
      "[6], test accuracy: 60.77 %, test_loss 1.11774\n",
      "[7] train accuracy: 64.10 % train loss: 1.01619\n",
      "[7], test accuracy: 60.81 %, test_loss 1.11206\n",
      "[8] train accuracy: 65.36 % train loss: 0.97798\n",
      "[8], test accuracy: 61.61 %, test_loss 1.09350\n",
      "[9] train accuracy: 66.50 % train loss: 0.94519\n",
      "[9], test accuracy: 62.76 %, test_loss 1.06534\n",
      "[10] train accuracy: 67.81 % train loss: 0.91299\n",
      "[10], test accuracy: 62.52 %, test_loss 1.09231\n",
      "[11] train accuracy: 68.64 % train loss: 0.88374\n",
      "[11], test accuracy: 63.39 %, test_loss 1.04987\n",
      "[12] train accuracy: 69.67 % train loss: 0.85698\n",
      "[12], test accuracy: 63.05 %, test_loss 1.06935\n",
      "[13] train accuracy: 70.72 % train loss: 0.82982\n",
      "[13], test accuracy: 63.51 %, test_loss 1.06931\n",
      "[14] train accuracy: 71.60 % train loss: 0.80642\n",
      "[14], test accuracy: 63.27 %, test_loss 1.08860\n",
      "[15] train accuracy: 72.12 % train loss: 0.78243\n",
      "[15], test accuracy: 63.13 %, test_loss 1.09454\n",
      "[16] train accuracy: 73.14 % train loss: 0.76026\n",
      "[16], test accuracy: 63.78 %, test_loss 1.09063\n",
      "[17] train accuracy: 73.79 % train loss: 0.73817\n",
      "[17], test accuracy: 62.27 %, test_loss 1.14874\n",
      "[18] train accuracy: 74.64 % train loss: 0.71742\n",
      "[18], test accuracy: 63.16 %, test_loss 1.10186\n",
      "[19] train accuracy: 75.18 % train loss: 0.69926\n",
      "[19], test accuracy: 63.49 %, test_loss 1.12010\n",
      "[20] train accuracy: 75.79 % train loss: 0.68242\n",
      "[20], test accuracy: 63.80 %, test_loss 1.15781\n",
      "Finished Training\n"
     ]
    }
   ],
   "source": [
    "test_acc = [0.0]*(num_epochs+1)\n",
    "test_loss = [0.0]*(num_epochs+1)\n",
    "train_acc = [0.0]*(num_epochs+1)\n",
    "train_loss = [0.0]*(num_epochs+1)\n",
    "lst_counter = 0\n",
    "\n",
    "train_acc[lst_counter], train_loss[lst_counter] = eval_initial_model(trainloader)\n",
    "test_acc[lst_counter], test_loss[lst_counter] = eval(testloader, 0)\n",
    "lst_counter += 1\n",
    "\n",
    "for epoch in range(num_epochs):  # loop over the dataset multiple times\n",
    "\n",
    "    running_loss_training = 0.0\n",
    "    correct = 0\n",
    "    total = 0\n",
    "    i = 0\n",
    "    # for i, data in enumerate(trainloader, 0):\n",
    "    for inputs, labels in trainloader:\n",
    "        # get the inputs\n",
    "        inputs = inputs.to(device); labels = labels.to(device)\n",
    "\n",
    "        # zero the parameter gradients\n",
    "        optimizer.zero_grad()\n",
    "\n",
    "        # forward + backward + optimize\n",
    "        outputs = net(inputs)\n",
    "        training_loss = criterion(outputs, labels)\n",
    "        _, predicted = torch.max(outputs.data, 1)\n",
    "        \n",
    "        training_loss.backward()\n",
    "        optimizer.step()\n",
    "\n",
    "        # print statistics\n",
    "        running_loss_training += training_loss.item()\n",
    "        total += labels.size(0)\n",
    "        correct += (predicted == labels).sum().item()\n",
    "        i += 1\n",
    "        if total >= trainloader.dataset.__len__():\n",
    "            print('[{:d}] train accuracy: {:4.2f} % train loss: {:.5f}'.format(epoch+1, \\\n",
    "                                                            100*correct/total, running_loss_training/i))\n",
    "            train_acc[lst_counter] = 100*correct/total\n",
    "            train_loss[lst_counter] = running_loss_training/i\n",
    "            \n",
    "            running_loss_training = 0.0\n",
    "            \n",
    "            test_acc[lst_counter], test_loss[lst_counter] = eval(testloader, epoch)\n",
    "            lst_counter += 1\n",
    "\n",
    "print('Finished Training')"
   ]
  },
  {
   "cell_type": "code",
   "execution_count": 11,
   "metadata": {
    "colab": {
     "base_uri": "https://localhost:8080/",
     "height": 279
    },
    "colab_type": "code",
    "id": "dvSLaE_gynW5",
    "outputId": "86df9706-199f-483b-9a6e-fa04ebf3c0a7"
   },
   "outputs": [
    {
     "data": {
      "image/png": "[encoded data removed]",
      "text/plain": [
       "<Figure size 432x288 with 1 Axes>"
      ]
     },
     "metadata": {
      "needs_background": "light"
     },
     "output_type": "display_data"
    }
   ],
   "source": [
    "# Plotting train and test loss vs Epochs\n",
    "fig1 = plt.figure(1)        \n",
    "plt.plot(range(num_epochs+1),train_loss,'r-',label='train_loss')        \n",
    "plt.plot(range(num_epochs+1),test_loss,'g-',label='test_loss')\n",
    "plt.legend(loc='upper right')\n",
    "plt.xlabel('Epochs')\n",
    "plt.ylabel('Losses')\n",
    "plt.show()"
   ]
  },
  {
   "cell_type": "code",
   "execution_count": 12,
   "metadata": {
    "colab": {
     "base_uri": "https://localhost:8080/",
     "height": 279
    },
    "colab_type": "code",
    "id": "MYxv-o7tynW_",
    "outputId": "5fd77623-29a3-47ed-dc41-1eabd92ede82"
   },
   "outputs": [
    {
     "data": {
      "image/png": "[encoded data removed]",
      "text/plain": [
       "<Figure size 432x288 with 1 Axes>"
      ]
     },
     "metadata": {
      "needs_background": "light"
     },
     "output_type": "display_data"
    }
   ],
   "source": [
    "fig2 = plt.figure(1)        \n",
    "plt.plot(range(1, num_epochs+1),train_loss[1:],'r-',label='train_loss')        \n",
    "plt.plot(range(1, num_epochs+1),test_loss[1:],'g-',label='test_loss')\n",
    "plt.legend(loc='upper right')\n",
    "plt.xlabel('Epochs')\n",
    "plt.ylabel('Losses')\n",
    "plt.show()"
   ]
  },
  {
   "cell_type": "code",
   "execution_count": 13,
   "metadata": {
    "colab": {
     "base_uri": "https://localhost:8080/",
     "height": 279
    },
    "colab_type": "code",
    "id": "7WyfqqzUynXF",
    "outputId": "e1d09845-11fb-49cf-c062-4bc5d94a674a"
   },
   "outputs": [
    {
     "data": {
      "image/png": "[encoded data removed]",
      "text/plain": [
       "<Figure size 432x288 with 1 Axes>"
      ]
     },
     "metadata": {
      "needs_background": "light"
     },
     "output_type": "display_data"
    }
   ],
   "source": [
    "# Plotting train and test accuracy vs Epochs\n",
    "fig3 = plt.figure(1)        \n",
    "plt.plot(range(num_epochs+1),train_acc,'r-',label='train_acc')        \n",
    "plt.plot(range(num_epochs+1),test_acc,'g-',label='test_acc')\n",
    "plt.legend(loc='lower right')\n",
    "plt.xlabel('Epochs')\n",
    "plt.ylabel('Accuracies')\n",
    "plt.show()"
   ]
  },
  {
   "cell_type": "markdown",
   "metadata": {
    "colab_type": "text",
    "id": "7arCcH20ynXP"
   },
   "source": [
    "#### Test the network on the test data "
   ]
  },
  {
   "cell_type": "code",
   "execution_count": 14,
   "metadata": {
    "colab": {
     "base_uri": "https://localhost:8080/",
     "height": 173
    },
    "colab_type": "code",
    "id": "Bg_BiZa5ynXQ",
    "outputId": "0d577472-b7cd-4c5c-a759-c9f3fdbe3ae4"
   },
   "outputs": [
    {
     "data": {
      "image/png": "[encoded data removed]",
      "text/plain": [
       "<Figure size 432x288 with 1 Axes>"
      ]
     },
     "metadata": {
      "needs_background": "light"
     },
     "output_type": "display_data"
    },
    {
     "name": "stdout",
     "output_type": "stream",
     "text": [
      "GroundTruth:    cat  ship  ship plane\n",
      "Predicted:    dog (0.51)  ship (0.51) plane (0.34) plane (1.00)\n"
     ]
    }
   ],
   "source": [
    "dataiter = iter(testloader)\n",
    "images, labels = dataiter.next()\n",
    "\n",
    "# print images\n",
    "imshow(torchvision.utils.make_grid(images[:4], nrow=4))\n",
    "print('GroundTruth: ', ' '.join('%5s' % classes[labels[j]] for j in range(4)))\n",
    "\n",
    "# Get the predicted outputs\n",
    "images = images.to(device)\n",
    "labels = labels.to(device)\n",
    "outputs = net(images)\n",
    "outputs_softmax = F.softmax(outputs, dim=1)\n",
    "probabilities, predicted = torch.max(outputs_softmax, 1)\n",
    "probabilities_np = probabilities.cpu().data.numpy()\n",
    "print('Predicted: ', ' '.join('%5s (%.2f)' % (classes[predicted[j]], probabilities[j]) for j in range(4)))"
   ]
  },
  {
   "cell_type": "code",
   "execution_count": null,
   "metadata": {
    "colab": {},
    "colab_type": "code",
    "id": "kisIJYWpynXc"
   },
   "outputs": [],
   "source": []
  }
 ],
 "metadata": {
  "colab": {
   "collapsed_sections": [],
   "name": "4_cifar10_tutorial.ipynb",
   "provenance": [],
   "version": "0.3.2"
  },
  "kernelspec": {
   "display_name": "Python 3",
   "language": "python",
   "name": "python3"
  },
  "language_info": {
   "codemirror_mode": {
    "name": "ipython",
    "version": 3
   },
   "file_extension": ".py",
   "mimetype": "text/x-python",
   "name": "python",
   "nbconvert_exporter": "python",
   "pygments_lexer": "ipython3",
   "version": "3.7.3"
  }
 },
 "nbformat": 4,
 "nbformat_minor": 2
}
