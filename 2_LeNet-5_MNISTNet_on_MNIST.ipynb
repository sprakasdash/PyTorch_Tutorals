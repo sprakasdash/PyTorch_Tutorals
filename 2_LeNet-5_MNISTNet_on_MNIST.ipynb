{
 "cells": [
  {
   "cell_type": "markdown",
   "metadata": {},
   "source": [
    "# Tutorial 2 : Playing with MNIST dataset using LeNet-5 and MNISTNet\n",
    "\n",
    "## A PyTorch implementation to: [Rotation equivariant vector field networks](https://github.com/COGMAR/RotEqNet), ICCV 2017\n",
    "\n",
    "### Go to your IPython working directory in bash and copy this command:\n",
    "### git clone https://github.com/COGMAR/RotEqNet.git"
   ]
  },
  {
   "cell_type": "code",
   "execution_count": 1,
   "metadata": {},
   "outputs": [],
   "source": [
    "%matplotlib inline\n",
    "import torch\n",
    "import torch.nn as nn\n",
    "import torch.nn.functional as F\n",
    "import numpy as np\n",
    "from torchvision import transforms,datasets\n",
    "import torch.optim as optim\n",
    "from torch.autograd import Variable\n",
    "import torchvision\n",
    "import sys\n",
    "sys.path.insert(0, '/home/sprakashdash/Documents/DLFA/RotEqNet/') # change path accordingly\n",
    "from layers_2D import RotConv, VectorMaxPool, VectorBatchNorm, Vector2Magnitude, VectorUpsampling\n",
    "import matplotlib.pyplot as plt\n",
    "import time"
   ]
  },
  {
   "cell_type": "markdown",
   "metadata": {},
   "source": [
    "## Load data:"
   ]
  },
  {
   "cell_type": "code",
   "execution_count": 2,
   "metadata": {},
   "outputs": [],
   "source": [
    "apply_transform = transforms.Compose([transforms.Resize(32),transforms.ToTensor()])\n",
    "apply_transform_rot = transforms.Compose([transforms.Resize(32),transforms.RandomRotation(90),transforms.ToTensor()])\n",
    "BatchSize = 256 # change according to system specs\n",
    "\n",
    "trainset = datasets.MNIST(root='./MNIST', train=True, download=True, transform=apply_transform)\n",
    "trainsetRot = datasets.MNIST(root='./MNIST', train=True, download=True, transform=apply_transform_rot)\n",
    "trainLoader = torch.utils.data.DataLoader(trainset, batch_size=BatchSize,\n",
    "                                          shuffle=True, num_workers=4) # Creating dataloader\n",
    "trainLoaderRot = torch.utils.data.DataLoader(trainsetRot, batch_size=BatchSize,\n",
    "                                          shuffle=True, num_workers=4) # Creating dataloader\n",
    "\n",
    "# Validation set with random rotations in the range [-90,90]\n",
    "testsetRot = datasets.MNIST(root='./MNIST', train=False, download=True, transform=apply_transform_rot)\n",
    "testLoaderRot = torch.utils.data.DataLoader(testsetRot, batch_size=BatchSize,\n",
    "                                         shuffle=False, num_workers=4) # Creating dataloader"
   ]
  },
  {
   "cell_type": "code",
   "execution_count": 3,
   "metadata": {},
   "outputs": [
    {
     "name": "stdout",
     "output_type": "stream",
     "text": [
      "No. of samples in train set: 60000\n",
      "No. of samples in test set: 10000\n"
     ]
    }
   ],
   "source": [
    "# Size of train and test datasets\n",
    "print('No. of samples in train set: '+str(len(trainLoader.dataset)))\n",
    "print('No. of samples in test set: '+str(len(testLoaderRot.dataset)))"
   ]
  },
  {
   "cell_type": "markdown",
   "metadata": {},
   "source": [
    "## Define network architecture"
   ]
  },
  {
   "cell_type": "markdown",
   "metadata": {},
   "source": [
    "### LeNet-5"
   ]
  },
  {
   "cell_type": "code",
   "execution_count": 4,
   "metadata": {},
   "outputs": [],
   "source": [
    "class LeNet(nn.Module):\n",
    "    def __init__(self):\n",
    "        super(LeNet, self).__init__()\n",
    "        self.conv1 = nn.Conv2d(1, 6, kernel_size=5)\n",
    "        self.pool1 = nn.MaxPool2d(kernel_size=2,stride=2)\n",
    "        self.conv2 = nn.Conv2d(6, 16, kernel_size=5)\n",
    "        self.pool2 = nn.MaxPool2d(kernel_size=2,stride=2)        \n",
    "        self.fc1 = nn.Linear(400, 120)\n",
    "        self.fc2 = nn.Linear(120, 84)\n",
    "        self.fc3 = nn.Linear(84, 10)\n",
    "\n",
    "    def forward(self, x):\n",
    "        x = F.relu(self.conv1(x))\n",
    "        x = self.pool1(x)\n",
    "        x = F.relu(self.conv2(x))\n",
    "        x = self.pool2(x)\n",
    "        x = x.view(-1, 400)\n",
    "        x = F.relu(self.fc1(x)) \n",
    "        x = F.relu(self.fc2(x))\n",
    "        x = self.fc3(x)\n",
    "        return F.log_softmax(x,dim=1)\n"
   ]
  },
  {
   "cell_type": "markdown",
   "metadata": {},
   "source": [
    "### MNISTNet"
   ]
  },
  {
   "cell_type": "code",
   "execution_count": 5,
   "metadata": {},
   "outputs": [],
   "source": [
    "class MnistNet(nn.Module):\n",
    "    def __init__(self):\n",
    "        super(MnistNet, self).__init__()\n",
    "\n",
    "        self.main = nn.Sequential(           \n",
    "            RotConv(1, 6, [9, 9], 1, 9 // 2, n_angles=17, mode=1), #The first RotConv must have mode=1 \n",
    "            VectorMaxPool(2),\n",
    "            VectorBatchNorm(6),\n",
    "            \n",
    "            RotConv(6, 16, [9, 9], 1, 9 // 2, n_angles=17, mode=2), #The next RotConv has mode=2 (since the input is vector field)\n",
    "            VectorMaxPool(2),\n",
    "            VectorBatchNorm(16),\n",
    "            \n",
    "            RotConv(16, 32, [9, 9], 2, 1, n_angles=17, mode=2), # changed stride 1->2\n",
    "            Vector2Magnitude(), #This call converts the vector field to a conventional multichannel image/feature image\n",
    "            \n",
    "        )\n",
    "        self.linear = nn.Sequential(\n",
    "            nn.Linear(32,128),\n",
    "            nn.Dropout2d(0.7),\n",
    "            nn.Linear(128,10)               \n",
    "        )\n",
    "\n",
    "    def forward(self,x):\n",
    "        x = self.main(x)\n",
    "        x = x.view(-1,32)\n",
    "        x = self.linear(x)\n",
    "        return  F.log_softmax(x,dim=1)"
   ]
  },
  {
   "cell_type": "markdown",
   "metadata": {},
   "source": [
    "## Train the networks on vanilla MNIST and validate on MNIST with random rotations"
   ]
  },
  {
   "cell_type": "markdown",
   "metadata": {},
   "source": [
    "### Initialize networks"
   ]
  },
  {
   "cell_type": "code",
   "execution_count": 6,
   "metadata": {},
   "outputs": [
    {
     "name": "stdout",
     "output_type": "stream",
     "text": [
      "LeNet(\n",
      "  (conv1): Conv2d(1, 6, kernel_size=(5, 5), stride=(1, 1))\n",
      "  (pool1): MaxPool2d(kernel_size=2, stride=2, padding=0, dilation=1, ceil_mode=False)\n",
      "  (conv2): Conv2d(6, 16, kernel_size=(5, 5), stride=(1, 1))\n",
      "  (pool2): MaxPool2d(kernel_size=2, stride=2, padding=0, dilation=1, ceil_mode=False)\n",
      "  (fc1): Linear(in_features=400, out_features=120, bias=True)\n",
      "  (fc2): Linear(in_features=120, out_features=84, bias=True)\n",
      "  (fc3): Linear(in_features=84, out_features=10, bias=True)\n",
      ")\n",
      "MnistNet(\n",
      "  (main): Sequential(\n",
      "    (0): RotConv()\n",
      "    (1): VectorMaxPool()\n",
      "    (2): VectorBatchNorm()\n",
      "    (3): RotConv()\n",
      "    (4): VectorMaxPool()\n",
      "    (5): VectorBatchNorm()\n",
      "    (6): RotConv()\n",
      "    (7): Vector2Magnitude()\n",
      "  )\n",
      "  (linear): Sequential(\n",
      "    (0): Linear(in_features=32, out_features=128, bias=True)\n",
      "    (1): Dropout2d(p=0.7)\n",
      "    (2): Linear(in_features=128, out_features=10, bias=True)\n",
      "  )\n",
      ")\n"
     ]
    }
   ],
   "source": [
    "net1 = LeNet() \n",
    "net2 = MnistNet()\n",
    "print(net1)\n",
    "print(net2)"
   ]
  },
  {
   "cell_type": "code",
   "execution_count": 7,
   "metadata": {},
   "outputs": [
    {
     "name": "stdout",
     "output_type": "stream",
     "text": [
      "GPU is available!\n"
     ]
    }
   ],
   "source": [
    "# Check availability of GPU\n",
    "use_gpu = torch.cuda.is_available()\n",
    "if use_gpu:\n",
    "    print('GPU is available!')   \n",
    "    net1 = net1.cuda()\n",
    "    net2 = net2.cuda()"
   ]
  },
  {
   "cell_type": "markdown",
   "metadata": {},
   "source": [
    "### Define loss function and optimizer"
   ]
  },
  {
   "cell_type": "code",
   "execution_count": 8,
   "metadata": {},
   "outputs": [],
   "source": [
    "criterion = nn.NLLLoss() # Negative Log-likelihood\n",
    "optimizer1 = optim.SGD(net1.parameters(), lr=1e-2, momentum=0.9) # SGD\n",
    "optimizer2 = optim.SGD(net2.parameters(), lr=1e-2, momentum=0.9) # SGD"
   ]
  },
  {
   "cell_type": "markdown",
   "metadata": {},
   "source": [
    "### Training and validation routine"
   ]
  },
  {
   "cell_type": "code",
   "execution_count": 9,
   "metadata": {},
   "outputs": [
    {
     "name": "stdout",
     "output_type": "stream",
     "text": [
      "Iteration: 1 /10  ; LeNet:  Training Loss: 0.005049 ; Testing Acc: 46.760 ; Time consumed: 7m 51s \n",
      "Iteration: 1 /10  ; MNISTNet:  Training Loss: 0.002655 ; Testing Acc: 67.110 ; Time consumed: 7m 51s \n",
      "Iteration: 2 /10  ; LeNet:  Training Loss: 0.000775 ; Testing Acc: 51.650 ; Time consumed: 8m 12s \n",
      "Iteration: 2 /10  ; MNISTNet:  Training Loss: 0.000614 ; Testing Acc: 68.790 ; Time consumed: 8m 12s \n",
      "Iteration: 3 /10  ; LeNet:  Training Loss: 0.000437 ; Testing Acc: 53.070 ; Time consumed: 8m 8s \n",
      "Iteration: 3 /10  ; MNISTNet:  Training Loss: 0.000459 ; Testing Acc: 72.370 ; Time consumed: 8m 8s \n",
      "Iteration: 4 /10  ; LeNet:  Training Loss: 0.000334 ; Testing Acc: 53.080 ; Time consumed: 8m 7s \n",
      "Iteration: 4 /10  ; MNISTNet:  Training Loss: 0.000402 ; Testing Acc: 73.680 ; Time consumed: 8m 7s \n",
      "Iteration: 5 /10  ; LeNet:  Training Loss: 0.000278 ; Testing Acc: 53.210 ; Time consumed: 7m 38s \n",
      "Iteration: 5 /10  ; MNISTNet:  Training Loss: 0.000324 ; Testing Acc: 74.260 ; Time consumed: 7m 38s \n",
      "Iteration: 6 /10  ; LeNet:  Training Loss: 0.000240 ; Testing Acc: 53.160 ; Time consumed: 7m 38s \n",
      "Iteration: 6 /10  ; MNISTNet:  Training Loss: 0.000290 ; Testing Acc: 72.750 ; Time consumed: 7m 38s \n",
      "Iteration: 7 /10  ; LeNet:  Training Loss: 0.000214 ; Testing Acc: 53.840 ; Time consumed: 9m 3s \n",
      "Iteration: 7 /10  ; MNISTNet:  Training Loss: 0.000272 ; Testing Acc: 71.970 ; Time consumed: 9m 3s \n",
      "Iteration: 8 /10  ; LeNet:  Training Loss: 0.000195 ; Testing Acc: 54.280 ; Time consumed: 9m 26s \n",
      "Iteration: 8 /10  ; MNISTNet:  Training Loss: 0.000239 ; Testing Acc: 74.840 ; Time consumed: 9m 26s \n",
      "Iteration: 9 /10  ; LeNet:  Training Loss: 0.000175 ; Testing Acc: 54.810 ; Time consumed: 8m 57s \n",
      "Iteration: 9 /10  ; MNISTNet:  Training Loss: 0.000213 ; Testing Acc: 74.590 ; Time consumed: 8m 57s \n",
      "Iteration: 10 /10  ; LeNet:  Training Loss: 0.000155 ; Testing Acc: 53.540 ; Time consumed: 9m 31s \n",
      "Iteration: 10 /10  ; MNISTNet:  Training Loss: 0.000210 ; Testing Acc: 74.090 ; Time consumed: 9m 31s \n"
     ]
    },
    {
     "data": {
      "image/png": "[encoded data removed]",
      "text/plain": [
       "<Figure size 432x288 with 1 Axes>"
      ]
     },
     "metadata": {
      "needs_background": "light"
     },
     "output_type": "display_data"
    },
    {
     "data": {
      "image/png": "[encoded data removed]",
      "text/plain": [
       "<Figure size 432x288 with 1 Axes>"
      ]
     },
     "metadata": {
      "needs_background": "light"
     },
     "output_type": "display_data"
    }
   ],
   "source": [
    "iterations = 10\n",
    "trainLoss1 = [] # list for saving training loss of LeNet\n",
    "testAcc1 = [] # list for saving test accuracy of LeNet\n",
    "trainLoss2 = [] # list for saving training loss of MNISTNet\n",
    "testAcc2 = [] # list for saving test accuracy of MNISTNet\n",
    "for epoch in range(iterations):\n",
    "    epochStart = time.time()\n",
    "    runningLoss1 = 0 # accumulated loss for LeNet   \n",
    "    runningLoss2 = 0 # accumulated loss for MNISTNet      \n",
    "    net1.train(True) # For training\n",
    "    net2.train(True) \n",
    "    for data in trainLoader:\n",
    "        inputs,labels = data\n",
    "        # Wrap them in Variable\n",
    "        if use_gpu:\n",
    "            inputs, labels = Variable(inputs.cuda()), Variable(labels.cuda())\n",
    "        else:\n",
    "            inputs, labels = Variable(inputs), Variable(labels)  \n",
    "       \n",
    "        # Initialize gradients to zero\n",
    "        optimizer1.zero_grad()\n",
    "        optimizer2.zero_grad()\n",
    "        # Feed-forward input data through the network        \n",
    "        outputs1 = net1(inputs)        \n",
    "        outputs2 = net2(inputs)        \n",
    "        # Compute loss/error\n",
    "        loss1 = criterion(outputs1, labels)\n",
    "        loss2 = criterion(outputs2, labels)\n",
    "        # Backpropagate loss and compute gradients\n",
    "        loss1.backward()\n",
    "        loss2.backward()\n",
    "        # Update the network parameters\n",
    "        optimizer1.step()\n",
    "        optimizer2.step()\n",
    "        # Accumulate loss per batch\n",
    "        runningLoss1 += loss1.data.item()\n",
    "        runningLoss2 += loss2.data.item()\n",
    "    avgTrainLoss1 = runningLoss1/60000.0\n",
    "    avgTrainLoss2 = runningLoss2/60000.0\n",
    "    trainLoss1.append(avgTrainLoss1)\n",
    "    trainLoss2.append(avgTrainLoss2)\n",
    "    \n",
    "    # Evaluating performance on test set for each epoch\n",
    "    with torch.no_grad(): # for evaluation\n",
    "        running_correct1 = 0\n",
    "        running_correct2 = 0\n",
    "        for data in testLoaderRot:\n",
    "            inputs,labels = data\n",
    "            # Wrap them in Variable\n",
    "            if use_gpu:\n",
    "                inputs = Variable(inputs.cuda())                \n",
    "                outputs1 = net1(inputs)\n",
    "                outputs2 = net2(inputs)\n",
    "                _, predicted1 = torch.max(outputs1.data, 1)\n",
    "                _, predicted2 = torch.max(outputs2.data, 1)\n",
    "                predicted1 = predicted1.cpu()\n",
    "                predicted2 = predicted2.cpu()\n",
    "            else:\n",
    "                inputs = Variable(inputs)\n",
    "                outputs1 = net1(inputs)\n",
    "                outputs2 = net2(inputs)\n",
    "                _, predicted1 = torch.max(outputs1.data, 1)\n",
    "                _, predicted2 = torch.max(outputs1.data, 1)\n",
    "            running_correct1 += (predicted1 == labels).sum()\n",
    "            running_correct2 += (predicted2 == labels).sum()\n",
    "        avgTestAcc1 = float(running_correct1)/10000.0\n",
    "        avgTestAcc2 = float(running_correct2)/10000.0\n",
    "        testAcc1.append(avgTestAcc1)\n",
    "        testAcc2.append(avgTestAcc2)\n",
    "        \n",
    "    # Plotting training loss vs Epochs\n",
    "    fig1 = plt.figure(1)        \n",
    "    plt.plot(range(epoch+1),trainLoss1,'r-',label='LeNet-5')        \n",
    "    plt.plot(range(epoch+1),trainLoss2,'g-',label='MNISTNet')        \n",
    "    if epoch==0:\n",
    "        plt.legend(loc='upper left')\n",
    "        plt.xlabel('Epochs')\n",
    "        plt.ylabel('Training loss')   \n",
    "    # Plotting testing accuracy vs Epochs\n",
    "    fig2 = plt.figure(2)        \n",
    "    plt.plot(range(epoch+1),testAcc1,'r-',label='LeNet-5')        \n",
    "    plt.plot(range(epoch+1),testAcc2,'g-',label='MNISTNet')        \n",
    "    if epoch==0:\n",
    "        plt.legend(loc='upper left')\n",
    "        plt.xlabel('Epochs')\n",
    "        plt.ylabel('Testing accuracy')    \n",
    "    epochEnd = time.time()-epochStart\n",
    "    print('Iteration: {:.0f} /{:.0f}  ; LeNet:  Training Loss: {:.6f} ; Testing Acc: {:.3f} ; Time consumed: {:.0f}m {:.0f}s '\\\n",
    "          .format(epoch + 1,iterations,avgTrainLoss1,avgTestAcc1*100,epochEnd//60,epochEnd%60))\n",
    "    print('Iteration: {:.0f} /{:.0f}  ; MNISTNet:  Training Loss: {:.6f} ; Testing Acc: {:.3f} ; Time consumed: {:.0f}m {:.0f}s '\\\n",
    "          .format(epoch + 1,iterations,avgTrainLoss2,avgTestAcc2*100,epochEnd//60,epochEnd%60))\n",
    "\n"
   ]
  },
  {
   "cell_type": "markdown",
   "metadata": {},
   "source": [
    "## Train and validate the networks on MNIST with random rotations"
   ]
  },
  {
   "cell_type": "markdown",
   "metadata": {},
   "source": [
    "### Initialize networks"
   ]
  },
  {
   "cell_type": "code",
   "execution_count": 10,
   "metadata": {},
   "outputs": [
    {
     "name": "stdout",
     "output_type": "stream",
     "text": [
      "GPU is available!\n"
     ]
    }
   ],
   "source": [
    "net1 = LeNet()\n",
    "net2 = MnistNet()\n",
    "# Check availability of GPU\n",
    "use_gpu = torch.cuda.is_available()\n",
    "if use_gpu:\n",
    "    print('GPU is available!')   \n",
    "    net1 = net1.cuda()\n",
    "    net2 = net2.cuda()\n",
    "criterion = nn.NLLLoss() # Negative Log-likelihood\n",
    "optimizer1 = optim.SGD(net1.parameters(), lr=1e-2, momentum=0.9) # SGD with momentum\n",
    "optimizer2 = optim.SGD(net2.parameters(), lr=1e-2, momentum=0.9) # SGD with momentum"
   ]
  },
  {
   "cell_type": "markdown",
   "metadata": {},
   "source": [
    "### Training and validation routine"
   ]
  },
  {
   "cell_type": "code",
   "execution_count": 11,
   "metadata": {},
   "outputs": [
    {
     "name": "stdout",
     "output_type": "stream",
     "text": [
      "Iteration: 1 /10  ; LeNet:  Training Loss: 0.007286 ; Testing Acc: 68.880 ; Time consumed: 9m 34s \n",
      "Iteration: 1 /10  ; MNISTNet:  Training Loss: 0.005218 ; Testing Acc: 86.580 ; Time consumed: 9m 34s \n",
      "Iteration: 2 /10  ; LeNet:  Training Loss: 0.002363 ; Testing Acc: 89.010 ; Time consumed: 9m 36s \n",
      "Iteration: 2 /10  ; MNISTNet:  Training Loss: 0.001340 ; Testing Acc: 91.720 ; Time consumed: 9m 36s \n",
      "Iteration: 3 /10  ; LeNet:  Training Loss: 0.001216 ; Testing Acc: 92.450 ; Time consumed: 9m 33s \n",
      "Iteration: 3 /10  ; MNISTNet:  Training Loss: 0.000943 ; Testing Acc: 94.210 ; Time consumed: 9m 33s \n",
      "Iteration: 4 /10  ; LeNet:  Training Loss: 0.000892 ; Testing Acc: 93.470 ; Time consumed: 9m 33s \n",
      "Iteration: 4 /10  ; MNISTNet:  Training Loss: 0.000808 ; Testing Acc: 94.480 ; Time consumed: 9m 33s \n",
      "Iteration: 5 /10  ; LeNet:  Training Loss: 0.000758 ; Testing Acc: 94.660 ; Time consumed: 8m 14s \n",
      "Iteration: 5 /10  ; MNISTNet:  Training Loss: 0.000710 ; Testing Acc: 95.270 ; Time consumed: 8m 14s \n",
      "Iteration: 6 /10  ; LeNet:  Training Loss: 0.000652 ; Testing Acc: 95.310 ; Time consumed: 7m 38s \n",
      "Iteration: 6 /10  ; MNISTNet:  Training Loss: 0.000656 ; Testing Acc: 95.380 ; Time consumed: 7m 38s \n",
      "Iteration: 7 /10  ; LeNet:  Training Loss: 0.000585 ; Testing Acc: 95.780 ; Time consumed: 7m 38s \n",
      "Iteration: 7 /10  ; MNISTNet:  Training Loss: 0.000600 ; Testing Acc: 96.230 ; Time consumed: 7m 38s \n",
      "Iteration: 8 /10  ; LeNet:  Training Loss: 0.000543 ; Testing Acc: 96.420 ; Time consumed: 7m 39s \n",
      "Iteration: 8 /10  ; MNISTNet:  Training Loss: 0.000557 ; Testing Acc: 96.320 ; Time consumed: 7m 39s \n",
      "Iteration: 9 /10  ; LeNet:  Training Loss: 0.000509 ; Testing Acc: 96.240 ; Time consumed: 7m 37s \n",
      "Iteration: 9 /10  ; MNISTNet:  Training Loss: 0.000527 ; Testing Acc: 96.500 ; Time consumed: 7m 37s \n",
      "Iteration: 10 /10  ; LeNet:  Training Loss: 0.000482 ; Testing Acc: 96.460 ; Time consumed: 7m 35s \n",
      "Iteration: 10 /10  ; MNISTNet:  Training Loss: 0.000504 ; Testing Acc: 96.540 ; Time consumed: 7m 35s \n"
     ]
    },
    {
     "data": {
      "image/png": "[encoded data removed]",
      "text/plain": [
       "<Figure size 432x288 with 1 Axes>"
      ]
     },
     "metadata": {
      "needs_background": "light"
     },
     "output_type": "display_data"
    },
    {
     "data": {
      "image/png": "[encoded data removed]",
      "text/plain": [
       "<Figure size 432x288 with 1 Axes>"
      ]
     },
     "metadata": {
      "needs_background": "light"
     },
     "output_type": "display_data"
    }
   ],
   "source": [
    "iterations = 10\n",
    "trainLoss1 = []\n",
    "testAcc1 = []\n",
    "trainLoss2 = []\n",
    "testAcc2 = []\n",
    "for epoch in range(iterations):\n",
    "    epochStart = time.time()\n",
    "    runningLoss1 = 0    \n",
    "    runningLoss2 = 0    \n",
    "    net1.train(True) # For training\n",
    "    net2.train(True) \n",
    "    for data in trainLoaderRot:\n",
    "        inputs,labels = data\n",
    "        # Wrap them in Variable\n",
    "        if use_gpu:\n",
    "            inputs, labels = Variable(inputs.cuda()), \\\n",
    "                Variable(labels.cuda())\n",
    "        else:\n",
    "            inputs, labels = Variable(inputs), Variable(labels)  \n",
    "       \n",
    "        # Initialize gradients to zero\n",
    "        optimizer1.zero_grad()\n",
    "        optimizer2.zero_grad()\n",
    "        # Feed-forward input data through the network        \n",
    "        outputs1 = net1(inputs)        \n",
    "        outputs2 = net2(inputs)        \n",
    "        # Compute loss/error\n",
    "        loss1 = criterion(outputs1, labels)\n",
    "        loss2 = criterion(outputs2, labels)\n",
    "        # Backpropagate loss and compute gradients\n",
    "        loss1.backward()\n",
    "        loss2.backward()\n",
    "        # Update the network parameters\n",
    "        optimizer1.step()\n",
    "        optimizer2.step()\n",
    "        # Accumulate loss per batch\n",
    "        runningLoss1 += loss1.data.item()\n",
    "        runningLoss2 += loss2.data.item()\n",
    "    avgTrainLoss1 = runningLoss1/60000.0\n",
    "    avgTrainLoss2 = runningLoss2/60000.0\n",
    "    trainLoss1.append(avgTrainLoss1)\n",
    "    trainLoss2.append(avgTrainLoss2)\n",
    "    \n",
    "    # Evaluating performance on test set for each epoch\n",
    "    with torch.no_grad():\n",
    "        running_correct1 = 0\n",
    "        running_correct2 = 0\n",
    "        for data in testLoaderRot:\n",
    "            inputs,labels = data\n",
    "            # Wrap them in Variable\n",
    "            if use_gpu:\n",
    "                inputs = Variable(inputs.cuda())                \n",
    "                outputs1 = net1(inputs)\n",
    "                outputs2 = net2(inputs)\n",
    "                _, predicted1 = torch.max(outputs1.data, 1)\n",
    "                _, predicted2 = torch.max(outputs2.data, 1)\n",
    "                predicted1 = predicted1.cpu()\n",
    "                predicted2 = predicted2.cpu()\n",
    "            else:\n",
    "                inputs = Variable(inputs)\n",
    "                outputs1 = net1(inputs)\n",
    "                outputs2 = net2(inputs)\n",
    "                _, predicted1 = torch.max(outputs1.data, 1)\n",
    "                _, predicted2 = torch.max(outputs1.data, 1)\n",
    "            running_correct1 += (predicted1 == labels).sum()\n",
    "            running_correct2 += (predicted2 == labels).sum()\n",
    "        avgTestAcc1 = float(running_correct1)/10000.0\n",
    "        avgTestAcc2 = float(running_correct2)/10000.0\n",
    "        testAcc1.append(avgTestAcc1)\n",
    "        testAcc2.append(avgTestAcc2)\n",
    "        \n",
    "    # Plotting training loss vs Epochs\n",
    "    fig1 = plt.figure(1)        \n",
    "    plt.plot(range(epoch+1),trainLoss1,'r-',label='LeNet-5')        \n",
    "    plt.plot(range(epoch+1),trainLoss2,'g-',label='MNISTNet')        \n",
    "    if epoch==0:\n",
    "        plt.legend(loc='upper left')\n",
    "        plt.xlabel('Epochs')\n",
    "        plt.ylabel('Training loss')   \n",
    "    # Plotting testing accuracy vs Epochs\n",
    "    fig2 = plt.figure(2)        \n",
    "    plt.plot(range(epoch+1),testAcc1,'r-',label='LeNet-5')        \n",
    "    plt.plot(range(epoch+1),testAcc2,'g-',label='MNISTNet')        \n",
    "    if epoch==0:\n",
    "        plt.legend(loc='upper left')\n",
    "        plt.xlabel('Epochs')\n",
    "        plt.ylabel('Testing accuracy')    \n",
    "    epochEnd = time.time()-epochStart\n",
    "    print('Iteration: {:.0f} /{:.0f}  ; LeNet:  Training Loss: {:.6f} ; Testing Acc: {:.3f} ; Time consumed: {:.0f}m {:.0f}s '\\\n",
    "          .format(epoch + 1,iterations,avgTrainLoss1,avgTestAcc1*100,epochEnd//60,epochEnd%60))\n",
    "    print('Iteration: {:.0f} /{:.0f}  ; MNISTNet:  Training Loss: {:.6f} ; Testing Acc: {:.3f} ; Time consumed: {:.0f}m {:.0f}s '\\\n",
    "          .format(epoch + 1,iterations,avgTrainLoss2,avgTestAcc2*100,epochEnd//60,epochEnd%60))\n",
    "\n"
   ]
  },
  {
   "cell_type": "code",
   "execution_count": null,
   "metadata": {},
   "outputs": [],
   "source": []
  }
 ],
 "metadata": {
  "kernelspec": {
   "display_name": "Python 3",
   "language": "python",
   "name": "python3"
  },
  "language_info": {
   "codemirror_mode": {
    "name": "ipython",
    "version": 3
   },
   "file_extension": ".py",
   "mimetype": "text/x-python",
   "name": "python",
   "nbconvert_exporter": "python",
   "pygments_lexer": "ipython3",
   "version": "3.7.3"
  }
 },
 "nbformat": 4,
 "nbformat_minor": 2
}
